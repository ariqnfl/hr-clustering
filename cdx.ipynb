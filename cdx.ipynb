{
  "nbformat": 4,
  "nbformat_minor": 0,
  "metadata": {
    "colab": {
      "name": "cdx.ipynb",
      "provenance": [],
      "authorship_tag": "ABX9TyNlV26BNPSQU+awBG6QUhvD",
      "include_colab_link": true
    },
    "kernelspec": {
      "name": "python3",
      "display_name": "Python 3"
    },
    "language_info": {
      "name": "python"
    }
  },
  "cells": [
    {
      "cell_type": "markdown",
      "metadata": {
        "id": "view-in-github",
        "colab_type": "text"
      },
      "source": [
        "<a href=\"https://colab.research.google.com/github/ariqnfl/hr-clustering/blob/main/cdx.ipynb\" target=\"_parent\"><img src=\"https://colab.research.google.com/assets/colab-badge.svg\" alt=\"Open In Colab\"/></a>"
      ]
    },
    {
      "cell_type": "code",
      "metadata": {
        "id": "zzeGgT4mS7EV",
        "colab": {
          "base_uri": "https://localhost:8080/"
        },
        "outputId": "51a1a32b-57c8-42c8-b430-2e32320eccc6"
      },
      "source": [
        "import pandas as pd\n",
        "import matplotlib.pyplot as plt\n",
        "import seaborn as sns\n",
        "from datetime import datetime,date\n",
        "import numpy as np\n",
        "\n",
        "from sklearn.model_selection import train_test_split\n",
        "from sklearn.naive_bayes import MultinomialNB\n",
        "from sklearn.linear_model import LogisticRegression\n",
        "from sklearn.neighbors import KNeighborsClassifier\n",
        "from sklearn.ensemble import RandomForestClassifier\n",
        "from sklearn.tree import DecisionTreeClassifier\n",
        "from xgboost import XGBClassifier\n",
        "from sklearn.metrics import roc_auc_score, confusion_matrix, plot_confusion_matrix, plot_precision_recall_curve\n",
        "from sklearn.metrics import confusion_matrix,classification_report\n",
        "import itertools\n",
        "from imblearn.over_sampling import SMOTE"
      ],
      "execution_count": 1,
      "outputs": [
        {
          "output_type": "stream",
          "text": [
            "/usr/local/lib/python3.7/dist-packages/sklearn/externals/six.py:31: FutureWarning: The module is deprecated in version 0.21 and will be removed in version 0.23 since we've dropped support for Python 2.7. Please rely on the official version of six (https://pypi.org/project/six/).\n",
            "  \"(https://pypi.org/project/six/).\", FutureWarning)\n",
            "/usr/local/lib/python3.7/dist-packages/sklearn/utils/deprecation.py:144: FutureWarning: The sklearn.neighbors.base module is  deprecated in version 0.22 and will be removed in version 0.24. The corresponding classes / functions should instead be imported from sklearn.neighbors. Anything that cannot be imported from sklearn.neighbors is now part of the private API.\n",
            "  warnings.warn(message, FutureWarning)\n"
          ],
          "name": "stderr"
        }
      ]
    },
    {
      "cell_type": "code",
      "metadata": {
        "id": "gzGI4rUzsni6"
      },
      "source": [
        "def plot(cm, classes,\n",
        "                          normalize=False,\n",
        "                          title='Confusion matrix',\n",
        "                          cmap=plt.cm.Blues):\n",
        "    \"\"\"\n",
        "    This function prints and plots the confusion matrix.\n",
        "    Normalization can be applied by setting `normalize=True`.\n",
        "    \"\"\"\n",
        "    if normalize:\n",
        "        cm = cm.astype('float') / cm.sum(axis=1)[:, np.newaxis]\n",
        "        print(\"Normalized confusion matrix\")\n",
        "    else:\n",
        "        print('Confusion matrix, without normalization')\n",
        "\n",
        "    print(cm)\n",
        "\n",
        "    plt.imshow(cm, interpolation='nearest', cmap=cmap)\n",
        "    plt.title(title)\n",
        "    plt.colorbar()\n",
        "    tick_marks = np.arange(len(classes))\n",
        "    plt.xticks(tick_marks, classes, rotation=45)\n",
        "    plt.yticks(tick_marks, classes)\n",
        "\n",
        "    fmt = '.2f' if normalize else 'd'\n",
        "    thresh = cm.max() / 2.\n",
        "    for i, j in itertools.product(range(cm.shape[0]), range(cm.shape[1])):\n",
        "        plt.text(j, i, format(cm[i, j], fmt),\n",
        "                 horizontalalignment=\"center\",\n",
        "                 color=\"white\" if cm[i, j] > thresh else \"black\")\n",
        "\n",
        "    plt.tight_layout()\n",
        "    plt.ylabel('True label')\n",
        "    plt.xlabel('Predicted label')\n",
        "    plt.show\n",
        "    \n",
        "def age(born): \n",
        "    today = date.today() \n",
        "    return today.year - born.year - ((today.month,  today.day) < (born.month,  born.day))"
      ],
      "execution_count": 2,
      "outputs": []
    },
    {
      "cell_type": "code",
      "metadata": {
        "id": "y-JOMUxNTKsV"
      },
      "source": [
        "df = pd.read_csv('hr-data.csv')"
      ],
      "execution_count": 3,
      "outputs": []
    },
    {
      "cell_type": "code",
      "metadata": {
        "colab": {
          "base_uri": "https://localhost:8080/",
          "height": 334
        },
        "id": "b2vfh-BktcGf",
        "outputId": "056da5a1-ac4a-4d42-8dce-ee9d47de8688"
      },
      "source": [
        "df.head()"
      ],
      "execution_count": 4,
      "outputs": [
        {
          "output_type": "execute_result",
          "data": {
            "text/html": [
              "<div>\n",
              "<style scoped>\n",
              "    .dataframe tbody tr th:only-of-type {\n",
              "        vertical-align: middle;\n",
              "    }\n",
              "\n",
              "    .dataframe tbody tr th {\n",
              "        vertical-align: top;\n",
              "    }\n",
              "\n",
              "    .dataframe thead th {\n",
              "        text-align: right;\n",
              "    }\n",
              "</style>\n",
              "<table border=\"1\" class=\"dataframe\">\n",
              "  <thead>\n",
              "    <tr style=\"text-align: right;\">\n",
              "      <th></th>\n",
              "      <th>Employee_Name</th>\n",
              "      <th>EmpID</th>\n",
              "      <th>MarriedID</th>\n",
              "      <th>MaritalStatusID</th>\n",
              "      <th>GenderID</th>\n",
              "      <th>EmpStatusID</th>\n",
              "      <th>RoleID</th>\n",
              "      <th>LevelID</th>\n",
              "      <th>PerfScoreID</th>\n",
              "      <th>Tribe</th>\n",
              "      <th>Squad</th>\n",
              "      <th>DOB</th>\n",
              "      <th>RaceDesc</th>\n",
              "      <th>DateofHire</th>\n",
              "      <th>DateofTermination</th>\n",
              "      <th>TermReason</th>\n",
              "      <th>EmploymentStatus</th>\n",
              "      <th>RecruitmentSource</th>\n",
              "      <th>EngagementSurvey</th>\n",
              "      <th>EmpSatisfaction</th>\n",
              "      <th>SpecialProjectsCount</th>\n",
              "      <th>LastPerformanceReview_Date</th>\n",
              "      <th>DaysLateLast30</th>\n",
              "      <th>Absences</th>\n",
              "    </tr>\n",
              "  </thead>\n",
              "  <tbody>\n",
              "    <tr>\n",
              "      <th>0</th>\n",
              "      <td>A Ridwan</td>\n",
              "      <td>10001</td>\n",
              "      <td>Not married</td>\n",
              "      <td>Single</td>\n",
              "      <td>M</td>\n",
              "      <td>TKP/ Outsource</td>\n",
              "      <td>Product Owner</td>\n",
              "      <td>Senior</td>\n",
              "      <td>Exceed</td>\n",
              "      <td>EWD</td>\n",
              "      <td>Evaluate</td>\n",
              "      <td>7/10/1983</td>\n",
              "      <td>Sunda</td>\n",
              "      <td>7/5/2011</td>\n",
              "      <td>NaN</td>\n",
              "      <td>N/A-StillEmployed</td>\n",
              "      <td>Active</td>\n",
              "      <td>LinkedIn</td>\n",
              "      <td>4.60</td>\n",
              "      <td>5</td>\n",
              "      <td>0</td>\n",
              "      <td>1/17/2020</td>\n",
              "      <td>0</td>\n",
              "      <td>1</td>\n",
              "    </tr>\n",
              "    <tr>\n",
              "      <th>1</th>\n",
              "      <td>Ade Setyanto</td>\n",
              "      <td>10002</td>\n",
              "      <td>Not married</td>\n",
              "      <td>Single</td>\n",
              "      <td>M</td>\n",
              "      <td>TKP/ Outsource</td>\n",
              "      <td>Product Owner</td>\n",
              "      <td>Senior</td>\n",
              "      <td>Fully meets</td>\n",
              "      <td>EWD</td>\n",
              "      <td>Pay</td>\n",
              "      <td>5/5/1975</td>\n",
              "      <td>Sunda</td>\n",
              "      <td>3/30/2015</td>\n",
              "      <td>6/16/2018</td>\n",
              "      <td>career change</td>\n",
              "      <td>Voluntarily Terminated</td>\n",
              "      <td>Indeed</td>\n",
              "      <td>4.96</td>\n",
              "      <td>3</td>\n",
              "      <td>6</td>\n",
              "      <td>2/24/2017</td>\n",
              "      <td>0</td>\n",
              "      <td>17</td>\n",
              "    </tr>\n",
              "    <tr>\n",
              "      <th>2</th>\n",
              "      <td>Adhitya Bramantya Ranggatyasta</td>\n",
              "      <td>10003</td>\n",
              "      <td>Married</td>\n",
              "      <td>Divorced</td>\n",
              "      <td>F</td>\n",
              "      <td>TKP/ Outsource</td>\n",
              "      <td>Product Owner</td>\n",
              "      <td>Senior</td>\n",
              "      <td>Average</td>\n",
              "      <td>ENT</td>\n",
              "      <td>HunianAja</td>\n",
              "      <td>9/19/1988</td>\n",
              "      <td>Jawa</td>\n",
              "      <td>7/5/2011</td>\n",
              "      <td>9/24/2014</td>\n",
              "      <td>hours</td>\n",
              "      <td>Voluntarily Terminated</td>\n",
              "      <td>LinkedIn</td>\n",
              "      <td>3.02</td>\n",
              "      <td>3</td>\n",
              "      <td>0</td>\n",
              "      <td>5/15/2013</td>\n",
              "      <td>0</td>\n",
              "      <td>3</td>\n",
              "    </tr>\n",
              "    <tr>\n",
              "      <th>3</th>\n",
              "      <td>Adji Wijaya Kusuma</td>\n",
              "      <td>10004</td>\n",
              "      <td>Not married</td>\n",
              "      <td>Single</td>\n",
              "      <td>F</td>\n",
              "      <td>TKP/ Outsource</td>\n",
              "      <td>Business Analyst</td>\n",
              "      <td>Middle</td>\n",
              "      <td>Exceed</td>\n",
              "      <td>ENT</td>\n",
              "      <td>Intermoda</td>\n",
              "      <td>9/27/1988</td>\n",
              "      <td>Cina</td>\n",
              "      <td>1/7/2008</td>\n",
              "      <td>NaN</td>\n",
              "      <td>N/A-StillEmployed</td>\n",
              "      <td>Active</td>\n",
              "      <td>Indeed</td>\n",
              "      <td>4.84</td>\n",
              "      <td>5</td>\n",
              "      <td>0</td>\n",
              "      <td>1/3/2020</td>\n",
              "      <td>0</td>\n",
              "      <td>15</td>\n",
              "    </tr>\n",
              "    <tr>\n",
              "      <th>4</th>\n",
              "      <td>Agus Andri Putra</td>\n",
              "      <td>10005</td>\n",
              "      <td>Not married</td>\n",
              "      <td>Single</td>\n",
              "      <td>F</td>\n",
              "      <td>Prohire</td>\n",
              "      <td>Business Analyst</td>\n",
              "      <td>Middle</td>\n",
              "      <td>Average</td>\n",
              "      <td>EDU</td>\n",
              "      <td>Squad Pijar Sekolah</td>\n",
              "      <td>9/8/1989</td>\n",
              "      <td>Bali</td>\n",
              "      <td>7/11/2011</td>\n",
              "      <td>9/6/2018</td>\n",
              "      <td>return to school</td>\n",
              "      <td>Voluntarily Terminated</td>\n",
              "      <td>Google Search</td>\n",
              "      <td>5.00</td>\n",
              "      <td>4</td>\n",
              "      <td>0</td>\n",
              "      <td>2/1/2017</td>\n",
              "      <td>0</td>\n",
              "      <td>2</td>\n",
              "    </tr>\n",
              "  </tbody>\n",
              "</table>\n",
              "</div>"
            ],
            "text/plain": [
              "                    Employee_Name  EmpID  ... DaysLateLast30 Absences\n",
              "0                        A Ridwan  10001  ...              0        1\n",
              "1                    Ade Setyanto  10002  ...              0       17\n",
              "2  Adhitya Bramantya Ranggatyasta  10003  ...              0        3\n",
              "3              Adji Wijaya Kusuma  10004  ...              0       15\n",
              "4                Agus Andri Putra  10005  ...              0        2\n",
              "\n",
              "[5 rows x 24 columns]"
            ]
          },
          "metadata": {
            "tags": []
          },
          "execution_count": 4
        }
      ]
    },
    {
      "cell_type": "code",
      "metadata": {
        "id": "0XDkgQP1dOWO"
      },
      "source": [
        "df['DOB'] = pd.to_datetime(df.DOB)\n",
        "\n",
        "df['Age'] = df['DOB'].apply(age)\n",
        "\n",
        "df['Age_Cat'] = df.apply(lambda x: '28-35' if x.Age <= 35 else \n",
        "                            (\n",
        "                                '36-43' if x.Age <= 43\n",
        "                             else (\n",
        "                                 '44-51' if x.Age <= 51\n",
        "                                 else (\n",
        "                                     '52-59' if x.Age <= 59\n",
        "                                     else (\n",
        "                                         '60-70')))), axis = 1)\n",
        "\n",
        "df['DateofTermination'] = df['DateofTermination'].fillna(0)\n",
        "\n",
        "df['JobLevel'] = df.apply(lambda x: 0 if 'Junior' in x.LevelID  else \n",
        "                            (\n",
        "                                1 if 'Middle' in x.LevelID\n",
        "                             else (\n",
        "                                 2)),axis=1)\n",
        "\n",
        "df['EmployeePerformance'] = df.apply(lambda x: 0 if 'Special treatment' in x.PerfScoreID else \n",
        "                                       (\n",
        "                                           1 if 'Need improvement' in x.PerfScoreID\n",
        "                                        else (\n",
        "                                            2 if 'Average' in x.PerfScoreID\n",
        "                                            else (\n",
        "                                                3 if 'Fully meets' in x.PerfScoreID\n",
        "                                                else (\n",
        "                                                    4)))), axis=1)\n",
        "df['Absence_Cat'] = df.apply(lambda x: 0 if x.Absences <= 5 else \n",
        "                               (\n",
        "                                   1 if x.Absences <= 10\n",
        "                                else (\n",
        "                                    2 if x.Absences <= 15\n",
        "                                    else (\n",
        "                                         3))), axis = 1)\n",
        "df['Late_Cat'] = df.apply(lambda x: 0 if x.DaysLateLast30 <= 0 else \n",
        "                            (\n",
        "                                1 if x.DaysLateLast30 <= 2\n",
        "                             else (\n",
        "                                 2 if x.DaysLateLast30 <= 4\n",
        "                                 else (\n",
        "                                     3))), axis = 1)\n",
        "\n",
        "df['YearofTermination'] = pd.DatetimeIndex(df['DateofTermination']).year\n",
        "df['YearofHire'] = pd.DatetimeIndex(df['DateofHire']).year\n",
        "\n",
        "today = date.today().year\n",
        "df['WorkingYears'] = df.apply(lambda x: today - x.YearofHire if x.YearofTermination == 1970 else x.YearofTermination - x.YearofHire, axis=1)\n",
        "\n",
        "df['WorkingYears_Cat'] = df.apply(lambda x: '0-5' if x.WorkingYears <= 5 else \n",
        "                            (\n",
        "                                '6-10' if x.WorkingYears <= 10\n",
        "                             else (\n",
        "                                 '11-15')), axis = 1)\n",
        "\n",
        "df['Resigned'] = df.apply(lambda x: 0 if x.EmploymentStatus == 'Active' else 1, axis=1)\n",
        "\n",
        "df['EngagementSurvey'] = df['EngagementSurvey'].apply(round)\n",
        "\n",
        "df = df.drop(columns=['Employee_Name','EmpID','LevelID','PerfScoreID','Tribe','Squad','DOB','RaceDesc','DateofHire','DateofTermination','Age','RecruitmentSource','LastPerformanceReview_Date','DaysLateLast30','Absences','YearofTermination','YearofHire','WorkingYears'])\n"
      ],
      "execution_count": 5,
      "outputs": []
    },
    {
      "cell_type": "code",
      "metadata": {
        "colab": {
          "base_uri": "https://localhost:8080/",
          "height": 348
        },
        "id": "UHXjluckfXr0",
        "outputId": "85d9ebff-76f3-4d4e-97b4-34fbd6cdf131"
      },
      "source": [
        "sns.countplot(df['Resigned'])"
      ],
      "execution_count": 6,
      "outputs": [
        {
          "output_type": "stream",
          "text": [
            "/usr/local/lib/python3.7/dist-packages/seaborn/_decorators.py:43: FutureWarning: Pass the following variable as a keyword arg: x. From version 0.12, the only valid positional argument will be `data`, and passing other arguments without an explicit keyword will result in an error or misinterpretation.\n",
            "  FutureWarning\n"
          ],
          "name": "stderr"
        },
        {
          "output_type": "execute_result",
          "data": {
            "text/plain": [
              "<matplotlib.axes._subplots.AxesSubplot at 0x7f3acc19d410>"
            ]
          },
          "metadata": {
            "tags": []
          },
          "execution_count": 6
        },
        {
          "output_type": "display_data",
          "data": {
            "image/png": "[encoded data removed]",
            "text/plain": [
              "<Figure size 432x288 with 1 Axes>"
            ]
          },
          "metadata": {
            "tags": [],
            "needs_background": "light"
          }
        }
      ]
    },
    {
      "cell_type": "markdown",
      "metadata": {
        "id": "G5w4e_iwaxRF"
      },
      "source": [
        "EDA"
      ]
    },
    {
      "cell_type": "code",
      "metadata": {
        "colab": {
          "base_uri": "https://localhost:8080/",
          "height": 301
        },
        "id": "WgpnvkHTdYce",
        "outputId": "a76cd5e4-ca8a-4e18-d4b3-ec16f745cf38"
      },
      "source": [
        "df.head()"
      ],
      "execution_count": 7,
      "outputs": [
        {
          "output_type": "execute_result",
          "data": {
            "text/html": [
              "<div>\n",
              "<style scoped>\n",
              "    .dataframe tbody tr th:only-of-type {\n",
              "        vertical-align: middle;\n",
              "    }\n",
              "\n",
              "    .dataframe tbody tr th {\n",
              "        vertical-align: top;\n",
              "    }\n",
              "\n",
              "    .dataframe thead th {\n",
              "        text-align: right;\n",
              "    }\n",
              "</style>\n",
              "<table border=\"1\" class=\"dataframe\">\n",
              "  <thead>\n",
              "    <tr style=\"text-align: right;\">\n",
              "      <th></th>\n",
              "      <th>MarriedID</th>\n",
              "      <th>MaritalStatusID</th>\n",
              "      <th>GenderID</th>\n",
              "      <th>EmpStatusID</th>\n",
              "      <th>RoleID</th>\n",
              "      <th>TermReason</th>\n",
              "      <th>EmploymentStatus</th>\n",
              "      <th>EngagementSurvey</th>\n",
              "      <th>EmpSatisfaction</th>\n",
              "      <th>SpecialProjectsCount</th>\n",
              "      <th>Age_Cat</th>\n",
              "      <th>JobLevel</th>\n",
              "      <th>EmployeePerformance</th>\n",
              "      <th>Absence_Cat</th>\n",
              "      <th>Late_Cat</th>\n",
              "      <th>WorkingYears_Cat</th>\n",
              "      <th>Resigned</th>\n",
              "    </tr>\n",
              "  </thead>\n",
              "  <tbody>\n",
              "    <tr>\n",
              "      <th>0</th>\n",
              "      <td>Not married</td>\n",
              "      <td>Single</td>\n",
              "      <td>M</td>\n",
              "      <td>TKP/ Outsource</td>\n",
              "      <td>Product Owner</td>\n",
              "      <td>N/A-StillEmployed</td>\n",
              "      <td>Active</td>\n",
              "      <td>5</td>\n",
              "      <td>5</td>\n",
              "      <td>0</td>\n",
              "      <td>36-43</td>\n",
              "      <td>2</td>\n",
              "      <td>4</td>\n",
              "      <td>0</td>\n",
              "      <td>0</td>\n",
              "      <td>6-10</td>\n",
              "      <td>0</td>\n",
              "    </tr>\n",
              "    <tr>\n",
              "      <th>1</th>\n",
              "      <td>Not married</td>\n",
              "      <td>Single</td>\n",
              "      <td>M</td>\n",
              "      <td>TKP/ Outsource</td>\n",
              "      <td>Product Owner</td>\n",
              "      <td>career change</td>\n",
              "      <td>Voluntarily Terminated</td>\n",
              "      <td>5</td>\n",
              "      <td>3</td>\n",
              "      <td>6</td>\n",
              "      <td>44-51</td>\n",
              "      <td>2</td>\n",
              "      <td>3</td>\n",
              "      <td>3</td>\n",
              "      <td>0</td>\n",
              "      <td>0-5</td>\n",
              "      <td>1</td>\n",
              "    </tr>\n",
              "    <tr>\n",
              "      <th>2</th>\n",
              "      <td>Married</td>\n",
              "      <td>Divorced</td>\n",
              "      <td>F</td>\n",
              "      <td>TKP/ Outsource</td>\n",
              "      <td>Product Owner</td>\n",
              "      <td>hours</td>\n",
              "      <td>Voluntarily Terminated</td>\n",
              "      <td>3</td>\n",
              "      <td>3</td>\n",
              "      <td>0</td>\n",
              "      <td>28-35</td>\n",
              "      <td>2</td>\n",
              "      <td>2</td>\n",
              "      <td>0</td>\n",
              "      <td>0</td>\n",
              "      <td>0-5</td>\n",
              "      <td>1</td>\n",
              "    </tr>\n",
              "    <tr>\n",
              "      <th>3</th>\n",
              "      <td>Not married</td>\n",
              "      <td>Single</td>\n",
              "      <td>F</td>\n",
              "      <td>TKP/ Outsource</td>\n",
              "      <td>Business Analyst</td>\n",
              "      <td>N/A-StillEmployed</td>\n",
              "      <td>Active</td>\n",
              "      <td>5</td>\n",
              "      <td>5</td>\n",
              "      <td>0</td>\n",
              "      <td>28-35</td>\n",
              "      <td>1</td>\n",
              "      <td>4</td>\n",
              "      <td>2</td>\n",
              "      <td>0</td>\n",
              "      <td>11-15</td>\n",
              "      <td>0</td>\n",
              "    </tr>\n",
              "    <tr>\n",
              "      <th>4</th>\n",
              "      <td>Not married</td>\n",
              "      <td>Single</td>\n",
              "      <td>F</td>\n",
              "      <td>Prohire</td>\n",
              "      <td>Business Analyst</td>\n",
              "      <td>return to school</td>\n",
              "      <td>Voluntarily Terminated</td>\n",
              "      <td>5</td>\n",
              "      <td>4</td>\n",
              "      <td>0</td>\n",
              "      <td>28-35</td>\n",
              "      <td>1</td>\n",
              "      <td>2</td>\n",
              "      <td>0</td>\n",
              "      <td>0</td>\n",
              "      <td>6-10</td>\n",
              "      <td>1</td>\n",
              "    </tr>\n",
              "  </tbody>\n",
              "</table>\n",
              "</div>"
            ],
            "text/plain": [
              "     MarriedID MaritalStatusID GenderID  ... Late_Cat WorkingYears_Cat Resigned\n",
              "0  Not married          Single        M  ...        0             6-10        0\n",
              "1  Not married          Single        M  ...        0              0-5        1\n",
              "2      Married        Divorced        F  ...        0              0-5        1\n",
              "3  Not married          Single        F  ...        0            11-15        0\n",
              "4  Not married          Single        F  ...        0             6-10        1\n",
              "\n",
              "[5 rows x 17 columns]"
            ]
          },
          "metadata": {
            "tags": []
          },
          "execution_count": 7
        }
      ]
    },
    {
      "cell_type": "code",
      "metadata": {
        "colab": {
          "base_uri": "https://localhost:8080/"
        },
        "id": "EXJn2du8TkMB",
        "outputId": "f9b8be92-655c-4c3e-82c3-2f4de3ae8dd0"
      },
      "source": [
        "df.info()"
      ],
      "execution_count": 8,
      "outputs": [
        {
          "output_type": "stream",
          "text": [
            "<class 'pandas.core.frame.DataFrame'>\n",
            "RangeIndex: 287 entries, 0 to 286\n",
            "Data columns (total 17 columns):\n",
            " #   Column                Non-Null Count  Dtype \n",
            "---  ------                --------------  ----- \n",
            " 0   MarriedID             287 non-null    object\n",
            " 1   MaritalStatusID       287 non-null    object\n",
            " 2   GenderID              287 non-null    object\n",
            " 3   EmpStatusID           287 non-null    object\n",
            " 4   RoleID                287 non-null    object\n",
            " 5   TermReason            287 non-null    object\n",
            " 6   EmploymentStatus      287 non-null    object\n",
            " 7   EngagementSurvey      287 non-null    int64 \n",
            " 8   EmpSatisfaction       287 non-null    int64 \n",
            " 9   SpecialProjectsCount  287 non-null    int64 \n",
            " 10  Age_Cat               287 non-null    object\n",
            " 11  JobLevel              287 non-null    int64 \n",
            " 12  EmployeePerformance   287 non-null    int64 \n",
            " 13  Absence_Cat           287 non-null    int64 \n",
            " 14  Late_Cat              287 non-null    int64 \n",
            " 15  WorkingYears_Cat      287 non-null    object\n",
            " 16  Resigned              287 non-null    int64 \n",
            "dtypes: int64(8), object(9)\n",
            "memory usage: 38.2+ KB\n"
          ],
          "name": "stdout"
        }
      ]
    },
    {
      "cell_type": "code",
      "metadata": {
        "id": "X2rXVhliTmp-"
      },
      "source": [
        "def split_columns(data):\n",
        "    categorical_col = data.select_dtypes(include=['object','category']).columns.tolist()\n",
        "    numerical_col = data.select_dtypes(include=['int64','float64']).columns.tolist()\n",
        "    return categorical_col,numerical_col"
      ],
      "execution_count": 9,
      "outputs": []
    },
    {
      "cell_type": "code",
      "metadata": {
        "colab": {
          "base_uri": "https://localhost:8080/",
          "height": 388
        },
        "id": "9jHwNt53wbVS",
        "outputId": "a362ba5a-cb1b-4b19-8f3a-85eda50f6aab"
      },
      "source": [
        "sns.heatmap(df.corr())"
      ],
      "execution_count": 10,
      "outputs": [
        {
          "output_type": "execute_result",
          "data": {
            "text/plain": [
              "<matplotlib.axes._subplots.AxesSubplot at 0x7f3acbc30e90>"
            ]
          },
          "metadata": {
            "tags": []
          },
          "execution_count": 10
        },
        {
          "output_type": "display_data",
          "data": {
            "image/png": "[encoded data removed]",
            "text/plain": [
              "<Figure size 432x288 with 2 Axes>"
            ]
          },
          "metadata": {
            "tags": [],
            "needs_background": "light"
          }
        }
      ]
    },
    {
      "cell_type": "code",
      "metadata": {
        "id": "MQUOOBkrT4HP"
      },
      "source": [
        "cat,num = split_columns(df)\n",
        "test = cat\n",
        "test.append('EmpSatisfaction')\n",
        "test.append('EngagementSurvey')\n",
        "test.append('EmployeePerformance')\n",
        "test.append('EngagementSurvey')\n",
        "test.append('Absence_Cat')\n",
        "test.append('Late_Cat')"
      ],
      "execution_count": 11,
      "outputs": []
    },
    {
      "cell_type": "code",
      "metadata": {
        "colab": {
          "base_uri": "https://localhost:8080/",
          "height": 877
        },
        "id": "kcaJxgnXUhC_",
        "outputId": "20853c47-0e2d-481c-b769-6b11e2d17d21"
      },
      "source": [
        "fig,axes=plt.subplots(4,4,figsize=(15,15))\n",
        "i=0;\n",
        "for elem in cat:\n",
        "    sns.countplot(x=df[elem], hue=df['Resigned'], orient='v', ax=axes[int(i/4),(i%4)]);\n",
        "    i=i+1"
      ],
      "execution_count": 12,
      "outputs": [
        {
          "output_type": "display_data",
          "data": {
            "image/png": "[encoded data removed]",
            "text/plain": [
              "<Figure size 1080x1080 with 16 Axes>"
            ]
          },
          "metadata": {
            "tags": [],
            "needs_background": "light"
          }
        }
      ]
    },
    {
      "cell_type": "code",
      "metadata": {
        "id": "5M45hau7V3W7"
      },
      "source": [
        "df = pd.get_dummies(df)"
      ],
      "execution_count": 13,
      "outputs": []
    },
    {
      "cell_type": "code",
      "metadata": {
        "colab": {
          "base_uri": "https://localhost:8080/",
          "height": 251
        },
        "id": "63Hvt79iV7MO",
        "outputId": "4e23ad03-95c3-4fc8-c689-36575015c5ea"
      },
      "source": [
        "df.head()"
      ],
      "execution_count": 14,
      "outputs": [
        {
          "output_type": "execute_result",
          "data": {
            "text/html": [
              "<div>\n",
              "<style scoped>\n",
              "    .dataframe tbody tr th:only-of-type {\n",
              "        vertical-align: middle;\n",
              "    }\n",
              "\n",
              "    .dataframe tbody tr th {\n",
              "        vertical-align: top;\n",
              "    }\n",
              "\n",
              "    .dataframe thead th {\n",
              "        text-align: right;\n",
              "    }\n",
              "</style>\n",
              "<table border=\"1\" class=\"dataframe\">\n",
              "  <thead>\n",
              "    <tr style=\"text-align: right;\">\n",
              "      <th></th>\n",
              "      <th>EngagementSurvey</th>\n",
              "      <th>EmpSatisfaction</th>\n",
              "      <th>SpecialProjectsCount</th>\n",
              "      <th>JobLevel</th>\n",
              "      <th>EmployeePerformance</th>\n",
              "      <th>Absence_Cat</th>\n",
              "      <th>Late_Cat</th>\n",
              "      <th>Resigned</th>\n",
              "      <th>MarriedID_Married</th>\n",
              "      <th>MarriedID_Not married</th>\n",
              "      <th>MaritalStatusID_Divorced</th>\n",
              "      <th>MaritalStatusID_Married</th>\n",
              "      <th>MaritalStatusID_Single</th>\n",
              "      <th>MaritalStatusID_Widowed</th>\n",
              "      <th>GenderID_F</th>\n",
              "      <th>GenderID_M</th>\n",
              "      <th>EmpStatusID_Karyawan Organik</th>\n",
              "      <th>EmpStatusID_Prohire</th>\n",
              "      <th>EmpStatusID_TKP/ Outsource</th>\n",
              "      <th>RoleID_Artificial Intelligent</th>\n",
              "      <th>RoleID_Back End Developer</th>\n",
              "      <th>RoleID_Business Analyst</th>\n",
              "      <th>RoleID_DevOps Engineer</th>\n",
              "      <th>RoleID_Digital Product Manager</th>\n",
              "      <th>RoleID_Front End Developer</th>\n",
              "      <th>RoleID_Mobile Developer Android</th>\n",
              "      <th>RoleID_Mobile Developer iOS</th>\n",
              "      <th>RoleID_Product Owner</th>\n",
              "      <th>RoleID_Scrum Master</th>\n",
              "      <th>RoleID_Software Architect</th>\n",
              "      <th>RoleID_System Documentation</th>\n",
              "      <th>RoleID_UI Designer</th>\n",
              "      <th>RoleID_UX Designer</th>\n",
              "      <th>RoleID_UX Researcher</th>\n",
              "      <th>RoleID_UX Writer</th>\n",
              "      <th>TermReason_Another position</th>\n",
              "      <th>TermReason_Fatal attraction</th>\n",
              "      <th>TermReason_Learned that he is a gangster</th>\n",
              "      <th>TermReason_N/A-StillEmployed</th>\n",
              "      <th>TermReason_attendance</th>\n",
              "      <th>TermReason_career change</th>\n",
              "      <th>TermReason_hours</th>\n",
              "      <th>TermReason_maternity leave - did not return</th>\n",
              "      <th>TermReason_medical issues</th>\n",
              "      <th>TermReason_military</th>\n",
              "      <th>TermReason_more money</th>\n",
              "      <th>TermReason_no-call, no-show</th>\n",
              "      <th>TermReason_performance</th>\n",
              "      <th>TermReason_relocation out of area</th>\n",
              "      <th>TermReason_retiring</th>\n",
              "      <th>TermReason_return to school</th>\n",
              "      <th>TermReason_unhappy</th>\n",
              "      <th>EmploymentStatus_Active</th>\n",
              "      <th>EmploymentStatus_Terminated for Cause</th>\n",
              "      <th>EmploymentStatus_Voluntarily Terminated</th>\n",
              "      <th>Age_Cat_28-35</th>\n",
              "      <th>Age_Cat_36-43</th>\n",
              "      <th>Age_Cat_44-51</th>\n",
              "      <th>Age_Cat_52-59</th>\n",
              "      <th>Age_Cat_60-70</th>\n",
              "      <th>WorkingYears_Cat_0-5</th>\n",
              "      <th>WorkingYears_Cat_11-15</th>\n",
              "      <th>WorkingYears_Cat_6-10</th>\n",
              "    </tr>\n",
              "  </thead>\n",
              "  <tbody>\n",
              "    <tr>\n",
              "      <th>0</th>\n",
              "      <td>5</td>\n",
              "      <td>5</td>\n",
              "      <td>0</td>\n",
              "      <td>2</td>\n",
              "      <td>4</td>\n",
              "      <td>0</td>\n",
              "      <td>0</td>\n",
              "      <td>0</td>\n",
              "      <td>0</td>\n",
              "      <td>1</td>\n",
              "      <td>0</td>\n",
              "      <td>0</td>\n",
              "      <td>1</td>\n",
              "      <td>0</td>\n",
              "      <td>0</td>\n",
              "      <td>1</td>\n",
              "      <td>0</td>\n",
              "      <td>0</td>\n",
              "      <td>1</td>\n",
              "      <td>0</td>\n",
              "      <td>0</td>\n",
              "      <td>0</td>\n",
              "      <td>0</td>\n",
              "      <td>0</td>\n",
              "      <td>0</td>\n",
              "      <td>0</td>\n",
              "      <td>0</td>\n",
              "      <td>1</td>\n",
              "      <td>0</td>\n",
              "      <td>0</td>\n",
              "      <td>0</td>\n",
              "      <td>0</td>\n",
              "      <td>0</td>\n",
              "      <td>0</td>\n",
              "      <td>0</td>\n",
              "      <td>0</td>\n",
              "      <td>0</td>\n",
              "      <td>0</td>\n",
              "      <td>1</td>\n",
              "      <td>0</td>\n",
              "      <td>0</td>\n",
              "      <td>0</td>\n",
              "      <td>0</td>\n",
              "      <td>0</td>\n",
              "      <td>0</td>\n",
              "      <td>0</td>\n",
              "      <td>0</td>\n",
              "      <td>0</td>\n",
              "      <td>0</td>\n",
              "      <td>0</td>\n",
              "      <td>0</td>\n",
              "      <td>0</td>\n",
              "      <td>1</td>\n",
              "      <td>0</td>\n",
              "      <td>0</td>\n",
              "      <td>0</td>\n",
              "      <td>1</td>\n",
              "      <td>0</td>\n",
              "      <td>0</td>\n",
              "      <td>0</td>\n",
              "      <td>0</td>\n",
              "      <td>0</td>\n",
              "      <td>1</td>\n",
              "    </tr>\n",
              "    <tr>\n",
              "      <th>1</th>\n",
              "      <td>5</td>\n",
              "      <td>3</td>\n",
              "      <td>6</td>\n",
              "      <td>2</td>\n",
              "      <td>3</td>\n",
              "      <td>3</td>\n",
              "      <td>0</td>\n",
              "      <td>1</td>\n",
              "      <td>0</td>\n",
              "      <td>1</td>\n",
              "      <td>0</td>\n",
              "      <td>0</td>\n",
              "      <td>1</td>\n",
              "      <td>0</td>\n",
              "      <td>0</td>\n",
              "      <td>1</td>\n",
              "      <td>0</td>\n",
              "      <td>0</td>\n",
              "      <td>1</td>\n",
              "      <td>0</td>\n",
              "      <td>0</td>\n",
              "      <td>0</td>\n",
              "      <td>0</td>\n",
              "      <td>0</td>\n",
              "      <td>0</td>\n",
              "      <td>0</td>\n",
              "      <td>0</td>\n",
              "      <td>1</td>\n",
              "      <td>0</td>\n",
              "      <td>0</td>\n",
              "      <td>0</td>\n",
              "      <td>0</td>\n",
              "      <td>0</td>\n",
              "      <td>0</td>\n",
              "      <td>0</td>\n",
              "      <td>0</td>\n",
              "      <td>0</td>\n",
              "      <td>0</td>\n",
              "      <td>0</td>\n",
              "      <td>0</td>\n",
              "      <td>1</td>\n",
              "      <td>0</td>\n",
              "      <td>0</td>\n",
              "      <td>0</td>\n",
              "      <td>0</td>\n",
              "      <td>0</td>\n",
              "      <td>0</td>\n",
              "      <td>0</td>\n",
              "      <td>0</td>\n",
              "      <td>0</td>\n",
              "      <td>0</td>\n",
              "      <td>0</td>\n",
              "      <td>0</td>\n",
              "      <td>0</td>\n",
              "      <td>1</td>\n",
              "      <td>0</td>\n",
              "      <td>0</td>\n",
              "      <td>1</td>\n",
              "      <td>0</td>\n",
              "      <td>0</td>\n",
              "      <td>1</td>\n",
              "      <td>0</td>\n",
              "      <td>0</td>\n",
              "    </tr>\n",
              "    <tr>\n",
              "      <th>2</th>\n",
              "      <td>3</td>\n",
              "      <td>3</td>\n",
              "      <td>0</td>\n",
              "      <td>2</td>\n",
              "      <td>2</td>\n",
              "      <td>0</td>\n",
              "      <td>0</td>\n",
              "      <td>1</td>\n",
              "      <td>1</td>\n",
              "      <td>0</td>\n",
              "      <td>1</td>\n",
              "      <td>0</td>\n",
              "      <td>0</td>\n",
              "      <td>0</td>\n",
              "      <td>1</td>\n",
              "      <td>0</td>\n",
              "      <td>0</td>\n",
              "      <td>0</td>\n",
              "      <td>1</td>\n",
              "      <td>0</td>\n",
              "      <td>0</td>\n",
              "      <td>0</td>\n",
              "      <td>0</td>\n",
              "      <td>0</td>\n",
              "      <td>0</td>\n",
              "      <td>0</td>\n",
              "      <td>0</td>\n",
              "      <td>1</td>\n",
              "      <td>0</td>\n",
              "      <td>0</td>\n",
              "      <td>0</td>\n",
              "      <td>0</td>\n",
              "      <td>0</td>\n",
              "      <td>0</td>\n",
              "      <td>0</td>\n",
              "      <td>0</td>\n",
              "      <td>0</td>\n",
              "      <td>0</td>\n",
              "      <td>0</td>\n",
              "      <td>0</td>\n",
              "      <td>0</td>\n",
              "      <td>1</td>\n",
              "      <td>0</td>\n",
              "      <td>0</td>\n",
              "      <td>0</td>\n",
              "      <td>0</td>\n",
              "      <td>0</td>\n",
              "      <td>0</td>\n",
              "      <td>0</td>\n",
              "      <td>0</td>\n",
              "      <td>0</td>\n",
              "      <td>0</td>\n",
              "      <td>0</td>\n",
              "      <td>0</td>\n",
              "      <td>1</td>\n",
              "      <td>1</td>\n",
              "      <td>0</td>\n",
              "      <td>0</td>\n",
              "      <td>0</td>\n",
              "      <td>0</td>\n",
              "      <td>1</td>\n",
              "      <td>0</td>\n",
              "      <td>0</td>\n",
              "    </tr>\n",
              "    <tr>\n",
              "      <th>3</th>\n",
              "      <td>5</td>\n",
              "      <td>5</td>\n",
              "      <td>0</td>\n",
              "      <td>1</td>\n",
              "      <td>4</td>\n",
              "      <td>2</td>\n",
              "      <td>0</td>\n",
              "      <td>0</td>\n",
              "      <td>0</td>\n",
              "      <td>1</td>\n",
              "      <td>0</td>\n",
              "      <td>0</td>\n",
              "      <td>1</td>\n",
              "      <td>0</td>\n",
              "      <td>1</td>\n",
              "      <td>0</td>\n",
              "      <td>0</td>\n",
              "      <td>0</td>\n",
              "      <td>1</td>\n",
              "      <td>0</td>\n",
              "      <td>0</td>\n",
              "      <td>1</td>\n",
              "      <td>0</td>\n",
              "      <td>0</td>\n",
              "      <td>0</td>\n",
              "      <td>0</td>\n",
              "      <td>0</td>\n",
              "      <td>0</td>\n",
              "      <td>0</td>\n",
              "      <td>0</td>\n",
              "      <td>0</td>\n",
              "      <td>0</td>\n",
              "      <td>0</td>\n",
              "      <td>0</td>\n",
              "      <td>0</td>\n",
              "      <td>0</td>\n",
              "      <td>0</td>\n",
              "      <td>0</td>\n",
              "      <td>1</td>\n",
              "      <td>0</td>\n",
              "      <td>0</td>\n",
              "      <td>0</td>\n",
              "      <td>0</td>\n",
              "      <td>0</td>\n",
              "      <td>0</td>\n",
              "      <td>0</td>\n",
              "      <td>0</td>\n",
              "      <td>0</td>\n",
              "      <td>0</td>\n",
              "      <td>0</td>\n",
              "      <td>0</td>\n",
              "      <td>0</td>\n",
              "      <td>1</td>\n",
              "      <td>0</td>\n",
              "      <td>0</td>\n",
              "      <td>1</td>\n",
              "      <td>0</td>\n",
              "      <td>0</td>\n",
              "      <td>0</td>\n",
              "      <td>0</td>\n",
              "      <td>0</td>\n",
              "      <td>1</td>\n",
              "      <td>0</td>\n",
              "    </tr>\n",
              "    <tr>\n",
              "      <th>4</th>\n",
              "      <td>5</td>\n",
              "      <td>4</td>\n",
              "      <td>0</td>\n",
              "      <td>1</td>\n",
              "      <td>2</td>\n",
              "      <td>0</td>\n",
              "      <td>0</td>\n",
              "      <td>1</td>\n",
              "      <td>0</td>\n",
              "      <td>1</td>\n",
              "      <td>0</td>\n",
              "      <td>0</td>\n",
              "      <td>1</td>\n",
              "      <td>0</td>\n",
              "      <td>1</td>\n",
              "      <td>0</td>\n",
              "      <td>0</td>\n",
              "      <td>1</td>\n",
              "      <td>0</td>\n",
              "      <td>0</td>\n",
              "      <td>0</td>\n",
              "      <td>1</td>\n",
              "      <td>0</td>\n",
              "      <td>0</td>\n",
              "      <td>0</td>\n",
              "      <td>0</td>\n",
              "      <td>0</td>\n",
              "      <td>0</td>\n",
              "      <td>0</td>\n",
              "      <td>0</td>\n",
              "      <td>0</td>\n",
              "      <td>0</td>\n",
              "      <td>0</td>\n",
              "      <td>0</td>\n",
              "      <td>0</td>\n",
              "      <td>0</td>\n",
              "      <td>0</td>\n",
              "      <td>0</td>\n",
              "      <td>0</td>\n",
              "      <td>0</td>\n",
              "      <td>0</td>\n",
              "      <td>0</td>\n",
              "      <td>0</td>\n",
              "      <td>0</td>\n",
              "      <td>0</td>\n",
              "      <td>0</td>\n",
              "      <td>0</td>\n",
              "      <td>0</td>\n",
              "      <td>0</td>\n",
              "      <td>0</td>\n",
              "      <td>1</td>\n",
              "      <td>0</td>\n",
              "      <td>0</td>\n",
              "      <td>0</td>\n",
              "      <td>1</td>\n",
              "      <td>1</td>\n",
              "      <td>0</td>\n",
              "      <td>0</td>\n",
              "      <td>0</td>\n",
              "      <td>0</td>\n",
              "      <td>0</td>\n",
              "      <td>0</td>\n",
              "      <td>1</td>\n",
              "    </tr>\n",
              "  </tbody>\n",
              "</table>\n",
              "</div>"
            ],
            "text/plain": [
              "   EngagementSurvey  ...  WorkingYears_Cat_6-10\n",
              "0                 5  ...                      1\n",
              "1                 5  ...                      0\n",
              "2                 3  ...                      0\n",
              "3                 5  ...                      0\n",
              "4                 5  ...                      1\n",
              "\n",
              "[5 rows x 63 columns]"
            ]
          },
          "metadata": {
            "tags": []
          },
          "execution_count": 14
        }
      ]
    },
    {
      "cell_type": "code",
      "metadata": {
        "colab": {
          "base_uri": "https://localhost:8080/"
        },
        "id": "kZB2GAWHV8TX",
        "outputId": "0e8b5ef7-2075-44fa-923a-7b9e831b2519"
      },
      "source": [
        "df.shape"
      ],
      "execution_count": 15,
      "outputs": [
        {
          "output_type": "execute_result",
          "data": {
            "text/plain": [
              "(287, 63)"
            ]
          },
          "metadata": {
            "tags": []
          },
          "execution_count": 15
        }
      ]
    },
    {
      "cell_type": "code",
      "metadata": {
        "id": "1Qmf2J31WJnC",
        "colab": {
          "base_uri": "https://localhost:8080/",
          "height": 367
        },
        "outputId": "b81e5aa3-f892-4c85-f1bd-56a7e456fa8d"
      },
      "source": [
        "X = df.drop(columns=['Resigned'])\n",
        "y = df['Resigned']\n",
        "\n",
        "# handle imbalance target\n",
        "oversample = SMOTE()\n",
        "smote = SMOTE(random_state = 0)\n",
        "X_smote, y_smote = smote.fit_resample(X,y)\n",
        "sns.countplot(y_smote)"
      ],
      "execution_count": 33,
      "outputs": [
        {
          "output_type": "stream",
          "text": [
            "/usr/local/lib/python3.7/dist-packages/sklearn/utils/deprecation.py:87: FutureWarning: Function safe_indexing is deprecated; safe_indexing is deprecated in version 0.22 and will be removed in version 0.24.\n",
            "  warnings.warn(msg, category=FutureWarning)\n",
            "/usr/local/lib/python3.7/dist-packages/seaborn/_decorators.py:43: FutureWarning: Pass the following variable as a keyword arg: x. From version 0.12, the only valid positional argument will be `data`, and passing other arguments without an explicit keyword will result in an error or misinterpretation.\n",
            "  FutureWarning\n"
          ],
          "name": "stderr"
        },
        {
          "output_type": "execute_result",
          "data": {
            "text/plain": [
              "<matplotlib.axes._subplots.AxesSubplot at 0x7f3abf34d110>"
            ]
          },
          "metadata": {
            "tags": []
          },
          "execution_count": 33
        },
        {
          "output_type": "display_data",
          "data": {
            "image/png": "[encoded data removed]",
            "text/plain": [
              "<Figure size 432x288 with 1 Axes>"
            ]
          },
          "metadata": {
            "tags": [],
            "needs_background": "light"
          }
        }
      ]
    },
    {
      "cell_type": "code",
      "metadata": {
        "id": "Ab0lPRF4VlXw"
      },
      "source": [
        "# Split train and test data\n",
        "X_train, X_test, y_train, y_test = train_test_split(X_smote, y_smote, test_size=0.3,random_state=42)"
      ],
      "execution_count": 20,
      "outputs": []
    },
    {
      "cell_type": "markdown",
      "metadata": {
        "id": "7Xxm2fzLZSdK"
      },
      "source": [
        "Multinomial NB"
      ]
    },
    {
      "cell_type": "code",
      "metadata": {
        "id": "pq1nKHdoXFyO"
      },
      "source": [
        "nb = MultinomialNB()\n",
        "nb.fit(X_train,y_train)\n",
        "nb_pred = nb.predict(X_test)"
      ],
      "execution_count": 21,
      "outputs": []
    },
    {
      "cell_type": "code",
      "metadata": {
        "colab": {
          "base_uri": "https://localhost:8080/"
        },
        "id": "l5S5i11OXIE_",
        "outputId": "06c36c18-c356-448b-b10d-5f2ffa2db241"
      },
      "source": [
        "print(classification_report(y_test,nb_pred))"
      ],
      "execution_count": 22,
      "outputs": [
        {
          "output_type": "stream",
          "text": [
            "              precision    recall  f1-score   support\n",
            "\n",
            "           0       0.98      1.00      0.99        64\n",
            "           1       1.00      0.98      0.99        53\n",
            "\n",
            "    accuracy                           0.99       117\n",
            "   macro avg       0.99      0.99      0.99       117\n",
            "weighted avg       0.99      0.99      0.99       117\n",
            "\n"
          ],
          "name": "stdout"
        }
      ]
    },
    {
      "cell_type": "code",
      "metadata": {
        "colab": {
          "base_uri": "https://localhost:8080/",
          "height": 361
        },
        "id": "6w6Od5mNXYPV",
        "outputId": "37aeb1f7-09e1-4356-d9a5-33aa19bd70c4"
      },
      "source": [
        "nb_matrix = confusion_matrix(y_test,nb_pred)\n",
        "plot(nb_matrix, classes=[\"0 (Active)\",\"1 (Resign)\"], title='Confusion matrix Naive Bayes')"
      ],
      "execution_count": 23,
      "outputs": [
        {
          "output_type": "stream",
          "text": [
            "Confusion matrix, without normalization\n",
            "[[64  0]\n",
            " [ 1 52]]\n"
          ],
          "name": "stdout"
        },
        {
          "output_type": "display_data",
          "data": {
            "image/png": "[encoded data removed]",
            "text/plain": [
              "<Figure size 432x288 with 2 Axes>"
            ]
          },
          "metadata": {
            "tags": [],
            "needs_background": "light"
          }
        }
      ]
    },
    {
      "cell_type": "markdown",
      "metadata": {
        "id": "B_nyxrGMZXIT"
      },
      "source": [
        "Logistic Regression"
      ]
    },
    {
      "cell_type": "code",
      "metadata": {
        "id": "YjqyMeEtXdAu"
      },
      "source": [
        "lr = LogisticRegression()\n",
        "lr.fit(X_train,y_train)\n",
        "lr_pred = lr.predict(X_test)"
      ],
      "execution_count": 24,
      "outputs": []
    },
    {
      "cell_type": "code",
      "metadata": {
        "colab": {
          "base_uri": "https://localhost:8080/"
        },
        "id": "Erlb83uhXwCH",
        "outputId": "9be17a78-c891-4217-898f-f7a9a08cbb67"
      },
      "source": [
        "print(classification_report(y_test,lr_pred))"
      ],
      "execution_count": 25,
      "outputs": [
        {
          "output_type": "stream",
          "text": [
            "              precision    recall  f1-score   support\n",
            "\n",
            "           0       1.00      1.00      1.00        64\n",
            "           1       1.00      1.00      1.00        53\n",
            "\n",
            "    accuracy                           1.00       117\n",
            "   macro avg       1.00      1.00      1.00       117\n",
            "weighted avg       1.00      1.00      1.00       117\n",
            "\n"
          ],
          "name": "stdout"
        }
      ]
    },
    {
      "cell_type": "code",
      "metadata": {
        "colab": {
          "base_uri": "https://localhost:8080/",
          "height": 361
        },
        "id": "EakEl3k9XxZW",
        "outputId": "619ade46-b394-4d1d-af86-7474c505bbde"
      },
      "source": [
        "lr_matrix = confusion_matrix(y_test,lr_pred)\n",
        "plot(lr_matrix, classes=[\"0 (Active)\",\"1 (Resign)\"], title='Confusion matrix Logistic Regression')"
      ],
      "execution_count": 26,
      "outputs": [
        {
          "output_type": "stream",
          "text": [
            "Confusion matrix, without normalization\n",
            "[[64  0]\n",
            " [ 0 53]]\n"
          ],
          "name": "stdout"
        },
        {
          "output_type": "display_data",
          "data": {
            "image/png": "[encoded data removed]",
            "text/plain": [
              "<Figure size 432x288 with 2 Axes>"
            ]
          },
          "metadata": {
            "tags": [],
            "needs_background": "light"
          }
        }
      ]
    },
    {
      "cell_type": "markdown",
      "metadata": {
        "id": "VZKzR8u9Zcle"
      },
      "source": [
        "Random Forest Classifier"
      ]
    },
    {
      "cell_type": "code",
      "metadata": {
        "colab": {
          "base_uri": "https://localhost:8080/"
        },
        "id": "itqBR9RrX7eV",
        "outputId": "4d0752ce-a25a-4d14-f512-7808b3e964bb"
      },
      "source": [
        "from sklearn.model_selection import GridSearchCV\n",
        "from sklearn.ensemble import RandomForestClassifier\n",
        "# Create the parameter grid based on the results of random search \n",
        "param_grid = {\n",
        "    'max_depth': [1,2,3,4,10,15],\n",
        "     'min_samples_leaf': [3, 5,10,20,30],\n",
        "     'min_samples_split': [4, 8, 10, 12],\n",
        "     'n_estimators': [3,5,10,15]\n",
        "}\n",
        "# Create a based model\n",
        "rf = RandomForestClassifier()\n",
        "# Instantiate the grid search model\n",
        "grid_search = GridSearchCV(estimator = rf, param_grid = param_grid, \n",
        "                          cv = 3, n_jobs = -1, verbose = 2)\n",
        "\n",
        "grid_search.fit(X_train, y_train)\n",
        "grid_search.best_params_"
      ],
      "execution_count": 27,
      "outputs": [
        {
          "output_type": "stream",
          "text": [
            "Fitting 3 folds for each of 480 candidates, totalling 1440 fits\n"
          ],
          "name": "stdout"
        },
        {
          "output_type": "stream",
          "text": [
            "[Parallel(n_jobs=-1)]: Using backend LokyBackend with 2 concurrent workers.\n",
            "[Parallel(n_jobs=-1)]: Done 144 tasks      | elapsed:    2.7s\n",
            "[Parallel(n_jobs=-1)]: Done 1112 tasks      | elapsed:   13.9s\n",
            "[Parallel(n_jobs=-1)]: Done 1440 out of 1440 | elapsed:   17.7s finished\n"
          ],
          "name": "stderr"
        },
        {
          "output_type": "execute_result",
          "data": {
            "text/plain": [
              "{'max_depth': 1,\n",
              " 'min_samples_leaf': 3,\n",
              " 'min_samples_split': 10,\n",
              " 'n_estimators': 15}"
            ]
          },
          "metadata": {
            "tags": []
          },
          "execution_count": 27
        }
      ]
    },
    {
      "cell_type": "code",
      "metadata": {
        "colab": {
          "base_uri": "https://localhost:8080/"
        },
        "id": "AFuL-HiuZrfb",
        "outputId": "00a991cb-bd9b-4dec-c72a-73ff029b4468"
      },
      "source": [
        "rf = grid_search.best_estimator_\n",
        "rf.fit(X_train,y_train)\n",
        "rf_pred = rf.predict(X_test)\n",
        "print(classification_report(y_test,rf_pred))"
      ],
      "execution_count": 28,
      "outputs": [
        {
          "output_type": "stream",
          "text": [
            "              precision    recall  f1-score   support\n",
            "\n",
            "           0       0.82      0.94      0.88        64\n",
            "           1       0.91      0.75      0.82        53\n",
            "\n",
            "    accuracy                           0.85       117\n",
            "   macro avg       0.87      0.85      0.85       117\n",
            "weighted avg       0.86      0.85      0.85       117\n",
            "\n"
          ],
          "name": "stdout"
        }
      ]
    },
    {
      "cell_type": "code",
      "metadata": {
        "colab": {
          "base_uri": "https://localhost:8080/",
          "height": 361
        },
        "id": "Mj7rieb5bA0d",
        "outputId": "1850983f-867a-492b-8c05-55cdb888090b"
      },
      "source": [
        "rf_matrix = confusion_matrix(y_test,rf_pred)\n",
        "plot(rf_matrix, classes=[\"0 (Active)\",\"1 (Resign)\"], title='Confusion matrix Random Forest')"
      ],
      "execution_count": 29,
      "outputs": [
        {
          "output_type": "stream",
          "text": [
            "Confusion matrix, without normalization\n",
            "[[60  4]\n",
            " [13 40]]\n"
          ],
          "name": "stdout"
        },
        {
          "output_type": "display_data",
          "data": {
            "image/png": "[encoded data removed]",
            "text/plain": [
              "<Figure size 432x288 with 2 Axes>"
            ]
          },
          "metadata": {
            "tags": [],
            "needs_background": "light"
          }
        }
      ]
    },
    {
      "cell_type": "markdown",
      "metadata": {
        "id": "5bxNjTpgZg3Q"
      },
      "source": [
        "XGBoost"
      ]
    },
    {
      "cell_type": "code",
      "metadata": {
        "id": "h5MH7LZzYqRo",
        "colab": {
          "base_uri": "https://localhost:8080/"
        },
        "outputId": "dfd8969f-61b0-4dcf-c445-53d9142e3c62"
      },
      "source": [
        "params = {\n",
        "        'n_estimators': range(50, 250, 50),\n",
        "        'learning_rate': [0.1, 0.01]\n",
        "        }\n",
        "xgb_b = XGBClassifier()\n",
        "grid_xgb = GridSearchCV(xgb_b,params,verbose=2)\n",
        "grid_xgb.fit(X_test,y_test)"
      ],
      "execution_count": 30,
      "outputs": [
        {
          "output_type": "stream",
          "text": [
            "Fitting 5 folds for each of 8 candidates, totalling 40 fits\n",
            "[CV] learning_rate=0.1, n_estimators=50 ..............................\n",
            "[CV] ............... learning_rate=0.1, n_estimators=50, total=   0.1s\n",
            "[CV] learning_rate=0.1, n_estimators=50 ..............................\n",
            "[CV] ............... learning_rate=0.1, n_estimators=50, total=   0.0s\n",
            "[CV] learning_rate=0.1, n_estimators=50 ..............................\n",
            "[CV] ............... learning_rate=0.1, n_estimators=50, total=   0.0s\n",
            "[CV] learning_rate=0.1, n_estimators=50 ..............................\n",
            "[CV] ............... learning_rate=0.1, n_estimators=50, total=   0.0s\n",
            "[CV] learning_rate=0.1, n_estimators=50 ..............................\n",
            "[CV] ............... learning_rate=0.1, n_estimators=50, total=   0.0s\n",
            "[CV] learning_rate=0.1, n_estimators=100 .............................\n",
            "[CV] .............. learning_rate=0.1, n_estimators=100, total=   0.0s\n",
            "[CV] learning_rate=0.1, n_estimators=100 .............................\n"
          ],
          "name": "stdout"
        },
        {
          "output_type": "stream",
          "text": [
            "[Parallel(n_jobs=1)]: Using backend SequentialBackend with 1 concurrent workers.\n",
            "[Parallel(n_jobs=1)]: Done   1 out of   1 | elapsed:    0.1s remaining:    0.0s\n"
          ],
          "name": "stderr"
        },
        {
          "output_type": "stream",
          "text": [
            "[CV] .............. learning_rate=0.1, n_estimators=100, total=   0.0s\n",
            "[CV] learning_rate=0.1, n_estimators=100 .............................\n",
            "[CV] .............. learning_rate=0.1, n_estimators=100, total=   0.0s\n",
            "[CV] learning_rate=0.1, n_estimators=100 .............................\n",
            "[CV] .............. learning_rate=0.1, n_estimators=100, total=   0.0s\n",
            "[CV] learning_rate=0.1, n_estimators=100 .............................\n",
            "[CV] .............. learning_rate=0.1, n_estimators=100, total=   0.0s\n",
            "[CV] learning_rate=0.1, n_estimators=150 .............................\n",
            "[CV] .............. learning_rate=0.1, n_estimators=150, total=   0.0s\n",
            "[CV] learning_rate=0.1, n_estimators=150 .............................\n",
            "[CV] .............. learning_rate=0.1, n_estimators=150, total=   0.0s\n",
            "[CV] learning_rate=0.1, n_estimators=150 .............................\n",
            "[CV] .............. learning_rate=0.1, n_estimators=150, total=   0.0s\n",
            "[CV] learning_rate=0.1, n_estimators=150 .............................\n",
            "[CV] .............. learning_rate=0.1, n_estimators=150, total=   0.0s\n",
            "[CV] learning_rate=0.1, n_estimators=150 .............................\n",
            "[CV] .............. learning_rate=0.1, n_estimators=150, total=   0.0s\n",
            "[CV] learning_rate=0.1, n_estimators=200 .............................\n",
            "[CV] .............. learning_rate=0.1, n_estimators=200, total=   0.0s\n",
            "[CV] learning_rate=0.1, n_estimators=200 .............................\n",
            "[CV] .............. learning_rate=0.1, n_estimators=200, total=   0.0s\n",
            "[CV] learning_rate=0.1, n_estimators=200 .............................\n",
            "[CV] .............. learning_rate=0.1, n_estimators=200, total=   0.0s\n",
            "[CV] learning_rate=0.1, n_estimators=200 .............................\n",
            "[CV] .............. learning_rate=0.1, n_estimators=200, total=   0.0s\n",
            "[CV] learning_rate=0.1, n_estimators=200 .............................\n",
            "[CV] .............. learning_rate=0.1, n_estimators=200, total=   0.0s\n",
            "[CV] learning_rate=0.01, n_estimators=50 .............................\n",
            "[CV] .............. learning_rate=0.01, n_estimators=50, total=   0.0s\n",
            "[CV] learning_rate=0.01, n_estimators=50 .............................\n",
            "[CV] .............. learning_rate=0.01, n_estimators=50, total=   0.0s\n",
            "[CV] learning_rate=0.01, n_estimators=50 .............................\n",
            "[CV] .............. learning_rate=0.01, n_estimators=50, total=   0.0s\n",
            "[CV] learning_rate=0.01, n_estimators=50 .............................\n",
            "[CV] .............. learning_rate=0.01, n_estimators=50, total=   0.0s\n",
            "[CV] learning_rate=0.01, n_estimators=50 .............................\n",
            "[CV] .............. learning_rate=0.01, n_estimators=50, total=   0.0s\n",
            "[CV] learning_rate=0.01, n_estimators=100 ............................\n",
            "[CV] ............. learning_rate=0.01, n_estimators=100, total=   0.0s\n",
            "[CV] learning_rate=0.01, n_estimators=100 ............................\n",
            "[CV] ............. learning_rate=0.01, n_estimators=100, total=   0.0s\n",
            "[CV] learning_rate=0.01, n_estimators=100 ............................\n",
            "[CV] ............. learning_rate=0.01, n_estimators=100, total=   0.0s\n",
            "[CV] learning_rate=0.01, n_estimators=100 ............................\n",
            "[CV] ............. learning_rate=0.01, n_estimators=100, total=   0.0s\n",
            "[CV] learning_rate=0.01, n_estimators=100 ............................\n",
            "[CV] ............. learning_rate=0.01, n_estimators=100, total=   0.0s\n",
            "[CV] learning_rate=0.01, n_estimators=150 ............................\n",
            "[CV] ............. learning_rate=0.01, n_estimators=150, total=   0.0s\n",
            "[CV] learning_rate=0.01, n_estimators=150 ............................\n",
            "[CV] ............. learning_rate=0.01, n_estimators=150, total=   0.0s\n",
            "[CV] learning_rate=0.01, n_estimators=150 ............................\n",
            "[CV] ............. learning_rate=0.01, n_estimators=150, total=   0.0s\n",
            "[CV] learning_rate=0.01, n_estimators=150 ............................\n",
            "[CV] ............. learning_rate=0.01, n_estimators=150, total=   0.0s\n",
            "[CV] learning_rate=0.01, n_estimators=150 ............................\n",
            "[CV] ............. learning_rate=0.01, n_estimators=150, total=   0.0s\n",
            "[CV] learning_rate=0.01, n_estimators=200 ............................\n",
            "[CV] ............. learning_rate=0.01, n_estimators=200, total=   0.0s\n",
            "[CV] learning_rate=0.01, n_estimators=200 ............................\n",
            "[CV] ............. learning_rate=0.01, n_estimators=200, total=   0.0s\n",
            "[CV] learning_rate=0.01, n_estimators=200 ............................\n",
            "[CV] ............. learning_rate=0.01, n_estimators=200, total=   0.0s\n",
            "[CV] learning_rate=0.01, n_estimators=200 ............................\n",
            "[CV] ............. learning_rate=0.01, n_estimators=200, total=   0.0s\n",
            "[CV] learning_rate=0.01, n_estimators=200 ............................\n",
            "[CV] ............. learning_rate=0.01, n_estimators=200, total=   0.0s\n"
          ],
          "name": "stdout"
        },
        {
          "output_type": "stream",
          "text": [
            "[Parallel(n_jobs=1)]: Done  40 out of  40 | elapsed:    1.1s finished\n"
          ],
          "name": "stderr"
        },
        {
          "output_type": "execute_result",
          "data": {
            "text/plain": [
              "GridSearchCV(cv=None, error_score=nan,\n",
              "             estimator=XGBClassifier(base_score=0.5, booster='gbtree',\n",
              "                                     colsample_bylevel=1, colsample_bynode=1,\n",
              "                                     colsample_bytree=1, gamma=0,\n",
              "                                     learning_rate=0.1, max_delta_step=0,\n",
              "                                     max_depth=3, min_child_weight=1,\n",
              "                                     missing=None, n_estimators=100, n_jobs=1,\n",
              "                                     nthread=None, objective='binary:logistic',\n",
              "                                     random_state=0, reg_alpha=0, reg_lambda=1,\n",
              "                                     scale_pos_weight=1, seed=None, silent=None,\n",
              "                                     subsample=1, verbosity=1),\n",
              "             iid='deprecated', n_jobs=None,\n",
              "             param_grid={'learning_rate': [0.1, 0.01],\n",
              "                         'n_estimators': range(50, 250, 50)},\n",
              "             pre_dispatch='2*n_jobs', refit=True, return_train_score=False,\n",
              "             scoring=None, verbose=2)"
            ]
          },
          "metadata": {
            "tags": []
          },
          "execution_count": 30
        }
      ]
    },
    {
      "cell_type": "code",
      "metadata": {
        "colab": {
          "base_uri": "https://localhost:8080/"
        },
        "id": "qDOgfIcnY0xp",
        "outputId": "e07daf02-9511-40d9-ccad-dafb47de6f4d"
      },
      "source": [
        "xg = grid_xgb.best_estimator_\n",
        "xg.fit(X_train,y_train)\n",
        "xg_pred = xg.predict(X_test)\n",
        "print(classification_report(y_test,xg_pred))"
      ],
      "execution_count": 31,
      "outputs": [
        {
          "output_type": "stream",
          "text": [
            "              precision    recall  f1-score   support\n",
            "\n",
            "           0       1.00      1.00      1.00        64\n",
            "           1       1.00      1.00      1.00        53\n",
            "\n",
            "    accuracy                           1.00       117\n",
            "   macro avg       1.00      1.00      1.00       117\n",
            "weighted avg       1.00      1.00      1.00       117\n",
            "\n"
          ],
          "name": "stdout"
        }
      ]
    },
    {
      "cell_type": "code",
      "metadata": {
        "colab": {
          "base_uri": "https://localhost:8080/",
          "height": 361
        },
        "id": "xl4Hp1q_bJmo",
        "outputId": "8c4bcc61-30c5-4f51-9534-d89dc0122e8d"
      },
      "source": [
        "xg_matrix = confusion_matrix(y_test,xg_pred)\n",
        "plot(xg_matrix, classes=[\"0 (Active)\",\"1 (Resign)\"], title='Confusion matrix XGBoost')"
      ],
      "execution_count": 32,
      "outputs": [
        {
          "output_type": "stream",
          "text": [
            "Confusion matrix, without normalization\n",
            "[[64  0]\n",
            " [ 0 53]]\n"
          ],
          "name": "stdout"
        },
        {
          "output_type": "display_data",
          "data": {
            "image/png": "[encoded data removed]",
            "text/plain": [
              "<Figure size 432x288 with 2 Axes>"
            ]
          },
          "metadata": {
            "tags": [],
            "needs_background": "light"
          }
        }
      ]
    }
  ]
}