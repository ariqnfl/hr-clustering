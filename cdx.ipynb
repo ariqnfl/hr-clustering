{
  "nbformat": 4,
  "nbformat_minor": 0,
  "metadata": {
    "colab": {
      "name": "cdx.ipynb",
      "provenance": [],
      "authorship_tag": "ABX9TyOtI8QXxDrnXNHSxQcXfSnk",
      "include_colab_link": true
    },
    "kernelspec": {
      "name": "python3",
      "display_name": "Python 3"
    },
    "language_info": {
      "name": "python"
    }
  },
  "cells": [
    {
      "cell_type": "markdown",
      "metadata": {
        "id": "view-in-github",
        "colab_type": "text"
      },
      "source": [
        "<a href=\"https://colab.research.google.com/github/ariqnfl/hr-clustering/blob/main/cdx.ipynb\" target=\"_parent\"><img src=\"https://colab.research.google.com/assets/colab-badge.svg\" alt=\"Open In Colab\"/></a>"
      ]
    },
    {
      "cell_type": "code",
      "metadata": {
        "id": "zzeGgT4mS7EV"
      },
      "source": [
        "import pandas as pd\n",
        "import matplotlib.pyplot as plt\n",
        "import seaborn as sns\n",
        "from datetime import datetime,date\n",
        "import numpy as np\n",
        "\n",
        "from sklearn.model_selection import train_test_split\n",
        "from sklearn.naive_bayes import MultinomialNB\n",
        "from sklearn.linear_model import LogisticRegression\n",
        "from sklearn.neighbors import KNeighborsClassifier\n",
        "from sklearn.ensemble import RandomForestClassifier\n",
        "from sklearn.tree import DecisionTreeClassifier\n",
        "from xgboost import XGBClassifier\n",
        "from sklearn.metrics import roc_auc_score, confusion_matrix, plot_confusion_matrix, plot_precision_recall_curve\n",
        "from sklearn.metrics import confusion_matrix,classification_report\n",
        "import itertools\n"
      ],
      "execution_count": 1,
      "outputs": []
    },
    {
      "cell_type": "code",
      "metadata": {
        "id": "gzGI4rUzsni6"
      },
      "source": [
        "def plot(cm, classes,\n",
        "                          normalize=False,\n",
        "                          title='Confusion matrix',\n",
        "                          cmap=plt.cm.Blues):\n",
        "    \"\"\"\n",
        "    This function prints and plots the confusion matrix.\n",
        "    Normalization can be applied by setting `normalize=True`.\n",
        "    \"\"\"\n",
        "    if normalize:\n",
        "        cm = cm.astype('float') / cm.sum(axis=1)[:, np.newaxis]\n",
        "        print(\"Normalized confusion matrix\")\n",
        "    else:\n",
        "        print('Confusion matrix, without normalization')\n",
        "\n",
        "    print(cm)\n",
        "\n",
        "    plt.imshow(cm, interpolation='nearest', cmap=cmap)\n",
        "    plt.title(title)\n",
        "    plt.colorbar()\n",
        "    tick_marks = np.arange(len(classes))\n",
        "    plt.xticks(tick_marks, classes, rotation=45)\n",
        "    plt.yticks(tick_marks, classes)\n",
        "\n",
        "    fmt = '.2f' if normalize else 'd'\n",
        "    thresh = cm.max() / 2.\n",
        "    for i, j in itertools.product(range(cm.shape[0]), range(cm.shape[1])):\n",
        "        plt.text(j, i, format(cm[i, j], fmt),\n",
        "                 horizontalalignment=\"center\",\n",
        "                 color=\"white\" if cm[i, j] > thresh else \"black\")\n",
        "\n",
        "    plt.tight_layout()\n",
        "    plt.ylabel('True label')\n",
        "    plt.xlabel('Predicted label')\n",
        "    plt.show\n",
        "    \n",
        "def age(born): \n",
        "    today = date.today() \n",
        "    return today.year - born.year - ((today.month,  today.day) < (born.month,  born.day))"
      ],
      "execution_count": 40,
      "outputs": []
    },
    {
      "cell_type": "code",
      "metadata": {
        "id": "y-JOMUxNTKsV"
      },
      "source": [
        "df = pd.read_csv('hr-data.csv')"
      ],
      "execution_count": 80,
      "outputs": []
    },
    {
      "cell_type": "code",
      "metadata": {
        "colab": {
          "base_uri": "https://localhost:8080/",
          "height": 334
        },
        "id": "b2vfh-BktcGf",
        "outputId": "11a2f28e-f63b-4014-f3cb-d759fb60ce7c"
      },
      "source": [
        "df.head()"
      ],
      "execution_count": 9,
      "outputs": [
        {
          "output_type": "execute_result",
          "data": {
            "text/html": [
              "<div>\n",
              "<style scoped>\n",
              "    .dataframe tbody tr th:only-of-type {\n",
              "        vertical-align: middle;\n",
              "    }\n",
              "\n",
              "    .dataframe tbody tr th {\n",
              "        vertical-align: top;\n",
              "    }\n",
              "\n",
              "    .dataframe thead th {\n",
              "        text-align: right;\n",
              "    }\n",
              "</style>\n",
              "<table border=\"1\" class=\"dataframe\">\n",
              "  <thead>\n",
              "    <tr style=\"text-align: right;\">\n",
              "      <th></th>\n",
              "      <th>Employee_Name</th>\n",
              "      <th>EmpID</th>\n",
              "      <th>MarriedID</th>\n",
              "      <th>MaritalStatusID</th>\n",
              "      <th>GenderID</th>\n",
              "      <th>EmpStatusID</th>\n",
              "      <th>RoleID</th>\n",
              "      <th>LevelID</th>\n",
              "      <th>PerfScoreID</th>\n",
              "      <th>Tribe</th>\n",
              "      <th>Squad</th>\n",
              "      <th>DOB</th>\n",
              "      <th>RaceDesc</th>\n",
              "      <th>DateofHire</th>\n",
              "      <th>DateofTermination</th>\n",
              "      <th>TermReason</th>\n",
              "      <th>EmploymentStatus</th>\n",
              "      <th>RecruitmentSource</th>\n",
              "      <th>EngagementSurvey</th>\n",
              "      <th>EmpSatisfaction</th>\n",
              "      <th>SpecialProjectsCount</th>\n",
              "      <th>LastPerformanceReview_Date</th>\n",
              "      <th>DaysLateLast30</th>\n",
              "      <th>Absences</th>\n",
              "    </tr>\n",
              "  </thead>\n",
              "  <tbody>\n",
              "    <tr>\n",
              "      <th>0</th>\n",
              "      <td>A Ridwan</td>\n",
              "      <td>10001</td>\n",
              "      <td>Not married</td>\n",
              "      <td>Single</td>\n",
              "      <td>M</td>\n",
              "      <td>TKP/ Outsource</td>\n",
              "      <td>Product Owner</td>\n",
              "      <td>Senior</td>\n",
              "      <td>Exceed</td>\n",
              "      <td>EWD</td>\n",
              "      <td>Evaluate</td>\n",
              "      <td>7/10/1983</td>\n",
              "      <td>Sunda</td>\n",
              "      <td>7/5/2011</td>\n",
              "      <td>NaN</td>\n",
              "      <td>N/A-StillEmployed</td>\n",
              "      <td>Active</td>\n",
              "      <td>LinkedIn</td>\n",
              "      <td>4.60</td>\n",
              "      <td>5</td>\n",
              "      <td>0</td>\n",
              "      <td>1/17/2020</td>\n",
              "      <td>0</td>\n",
              "      <td>1</td>\n",
              "    </tr>\n",
              "    <tr>\n",
              "      <th>1</th>\n",
              "      <td>Ade Setyanto</td>\n",
              "      <td>10002</td>\n",
              "      <td>Not married</td>\n",
              "      <td>Single</td>\n",
              "      <td>M</td>\n",
              "      <td>TKP/ Outsource</td>\n",
              "      <td>Product Owner</td>\n",
              "      <td>Senior</td>\n",
              "      <td>Fully meets</td>\n",
              "      <td>EWD</td>\n",
              "      <td>Pay</td>\n",
              "      <td>5/5/1975</td>\n",
              "      <td>Sunda</td>\n",
              "      <td>3/30/2015</td>\n",
              "      <td>6/16/2018</td>\n",
              "      <td>career change</td>\n",
              "      <td>Voluntarily Terminated</td>\n",
              "      <td>Indeed</td>\n",
              "      <td>4.96</td>\n",
              "      <td>3</td>\n",
              "      <td>6</td>\n",
              "      <td>2/24/2017</td>\n",
              "      <td>0</td>\n",
              "      <td>17</td>\n",
              "    </tr>\n",
              "    <tr>\n",
              "      <th>2</th>\n",
              "      <td>Adhitya Bramantya Ranggatyasta</td>\n",
              "      <td>10003</td>\n",
              "      <td>Married</td>\n",
              "      <td>Divorced</td>\n",
              "      <td>F</td>\n",
              "      <td>TKP/ Outsource</td>\n",
              "      <td>Product Owner</td>\n",
              "      <td>Senior</td>\n",
              "      <td>Average</td>\n",
              "      <td>ENT</td>\n",
              "      <td>HunianAja</td>\n",
              "      <td>9/19/1988</td>\n",
              "      <td>Jawa</td>\n",
              "      <td>7/5/2011</td>\n",
              "      <td>9/24/2014</td>\n",
              "      <td>hours</td>\n",
              "      <td>Voluntarily Terminated</td>\n",
              "      <td>LinkedIn</td>\n",
              "      <td>3.02</td>\n",
              "      <td>3</td>\n",
              "      <td>0</td>\n",
              "      <td>5/15/2013</td>\n",
              "      <td>0</td>\n",
              "      <td>3</td>\n",
              "    </tr>\n",
              "    <tr>\n",
              "      <th>3</th>\n",
              "      <td>Adji Wijaya Kusuma</td>\n",
              "      <td>10004</td>\n",
              "      <td>Not married</td>\n",
              "      <td>Single</td>\n",
              "      <td>F</td>\n",
              "      <td>TKP/ Outsource</td>\n",
              "      <td>Business Analyst</td>\n",
              "      <td>Middle</td>\n",
              "      <td>Exceed</td>\n",
              "      <td>ENT</td>\n",
              "      <td>Intermoda</td>\n",
              "      <td>9/27/1988</td>\n",
              "      <td>Cina</td>\n",
              "      <td>1/7/2008</td>\n",
              "      <td>NaN</td>\n",
              "      <td>N/A-StillEmployed</td>\n",
              "      <td>Active</td>\n",
              "      <td>Indeed</td>\n",
              "      <td>4.84</td>\n",
              "      <td>5</td>\n",
              "      <td>0</td>\n",
              "      <td>1/3/2020</td>\n",
              "      <td>0</td>\n",
              "      <td>15</td>\n",
              "    </tr>\n",
              "    <tr>\n",
              "      <th>4</th>\n",
              "      <td>Agus Andri Putra</td>\n",
              "      <td>10005</td>\n",
              "      <td>Not married</td>\n",
              "      <td>Single</td>\n",
              "      <td>F</td>\n",
              "      <td>Prohire</td>\n",
              "      <td>Business Analyst</td>\n",
              "      <td>Middle</td>\n",
              "      <td>Average</td>\n",
              "      <td>EDU</td>\n",
              "      <td>Squad Pijar Sekolah</td>\n",
              "      <td>9/8/1989</td>\n",
              "      <td>Bali</td>\n",
              "      <td>7/11/2011</td>\n",
              "      <td>9/6/2018</td>\n",
              "      <td>return to school</td>\n",
              "      <td>Voluntarily Terminated</td>\n",
              "      <td>Google Search</td>\n",
              "      <td>5.00</td>\n",
              "      <td>4</td>\n",
              "      <td>0</td>\n",
              "      <td>2/1/2017</td>\n",
              "      <td>0</td>\n",
              "      <td>2</td>\n",
              "    </tr>\n",
              "  </tbody>\n",
              "</table>\n",
              "</div>"
            ],
            "text/plain": [
              "                    Employee_Name  EmpID  ... DaysLateLast30 Absences\n",
              "0                        A Ridwan  10001  ...              0        1\n",
              "1                    Ade Setyanto  10002  ...              0       17\n",
              "2  Adhitya Bramantya Ranggatyasta  10003  ...              0        3\n",
              "3              Adji Wijaya Kusuma  10004  ...              0       15\n",
              "4                Agus Andri Putra  10005  ...              0        2\n",
              "\n",
              "[5 rows x 24 columns]"
            ]
          },
          "metadata": {
            "tags": []
          },
          "execution_count": 9
        }
      ]
    },
    {
      "cell_type": "code",
      "metadata": {
        "id": "0XDkgQP1dOWO"
      },
      "source": [
        "df['DOB'] = pd.to_datetime(df.DOB)\n",
        "\n",
        "df['Age'] = df['DOB'].apply(age)\n",
        "\n",
        "df['Age_Cat'] = df.apply(lambda x: '28-35' if x.Age <= 35 else \n",
        "                            (\n",
        "                                '36-43' if x.Age <= 43\n",
        "                             else (\n",
        "                                 '44-51' if x.Age <= 51\n",
        "                                 else (\n",
        "                                     '52-59' if x.Age <= 59\n",
        "                                     else (\n",
        "                                         '60-70')))), axis = 1)\n",
        "\n",
        "df['DateofTermination'] = df['DateofTermination'].fillna(0)\n",
        "\n",
        "df['JobLevel'] = df.apply(lambda x: 0 if 'Junior' in x.LevelID  else \n",
        "                            (\n",
        "                                1 if 'Middle' in x.LevelID\n",
        "                             else (\n",
        "                                 2)),axis=1)\n",
        "\n",
        "df['EmployeePerformance'] = df.apply(lambda x: 0 if 'Special treatment' in x.PerfScoreID else \n",
        "                                       (\n",
        "                                           1 if 'Need improvement' in x.PerfScoreID\n",
        "                                        else (\n",
        "                                            2 if 'Average' in x.PerfScoreID\n",
        "                                            else (\n",
        "                                                3 if 'Fully meets' in x.PerfScoreID\n",
        "                                                else (\n",
        "                                                    4)))), axis=1)\n",
        "df['Absence_Cat'] = df.apply(lambda x: 0 if x.Absences <= 5 else \n",
        "                               (\n",
        "                                   1 if x.Absences <= 10\n",
        "                                else (\n",
        "                                    2 if x.Absences <= 15\n",
        "                                    else (\n",
        "                                         3))), axis = 1)\n",
        "df['Late_Cat'] = df.apply(lambda x: 0 if x.DaysLateLast30 <= 0 else \n",
        "                            (\n",
        "                                1 if x.DaysLateLast30 <= 2\n",
        "                             else (\n",
        "                                 2 if x.DaysLateLast30 <= 4\n",
        "                                 else (\n",
        "                                     3))), axis = 1)\n",
        "\n",
        "df['YearofTermination'] = pd.DatetimeIndex(df['DateofTermination']).year\n",
        "df['YearofHire'] = pd.DatetimeIndex(df['DateofHire']).year\n",
        "\n",
        "today = date.today().year\n",
        "df['WorkingYears'] = df.apply(lambda x: today - x.YearofHire if x.YearofTermination == 1970 else x.YearofTermination - x.YearofHire, axis=1)\n",
        "\n",
        "df['WorkingYears_Cat'] = df.apply(lambda x: '0-5' if x.WorkingYears <= 5 else \n",
        "                            (\n",
        "                                '6-10' if x.WorkingYears <= 10\n",
        "                             else (\n",
        "                                 '11-15')), axis = 1)\n",
        "\n",
        "df['Resigned'] = df.apply(lambda x: 0 if x.EmploymentStatus == 'Active' else 1, axis=1)\n",
        "\n",
        "df['EngagementSurvey'] = df['EngagementSurvey'].apply(round)\n",
        "\n",
        "df = df.drop(columns=['Employee_Name','EmpID','LevelID','PerfScoreID','Tribe','Squad','DOB','RaceDesc','DateofHire','DateofTermination','Age','RecruitmentSource','LastPerformanceReview_Date','DaysLateLast30','Absences','YearofTermination','YearofHire','WorkingYears'])\n"
      ],
      "execution_count": 81,
      "outputs": []
    },
    {
      "cell_type": "code",
      "metadata": {
        "colab": {
          "base_uri": "https://localhost:8080/",
          "height": 350
        },
        "id": "UHXjluckfXr0",
        "outputId": "f156b5b9-473a-4462-fd92-335b0430cba5"
      },
      "source": [
        "sns.countplot(df['Age_Cat'])"
      ],
      "execution_count": 82,
      "outputs": [
        {
          "output_type": "stream",
          "text": [
            "/usr/local/lib/python3.7/dist-packages/seaborn/_decorators.py:43: FutureWarning: Pass the following variable as a keyword arg: x. From version 0.12, the only valid positional argument will be `data`, and passing other arguments without an explicit keyword will result in an error or misinterpretation.\n",
            "  FutureWarning\n"
          ],
          "name": "stderr"
        },
        {
          "output_type": "execute_result",
          "data": {
            "text/plain": [
              "<matplotlib.axes._subplots.AxesSubplot at 0x7fe19e6fd590>"
            ]
          },
          "metadata": {
            "tags": []
          },
          "execution_count": 82
        },
        {
          "output_type": "display_data",
          "data": {
            "image/png": "[encoded data removed]",
            "text/plain": [
              "<Figure size 432x288 with 1 Axes>"
            ]
          },
          "metadata": {
            "tags": [],
            "needs_background": "light"
          }
        }
      ]
    },
    {
      "cell_type": "markdown",
      "metadata": {
        "id": "G5w4e_iwaxRF"
      },
      "source": [
        "EDA"
      ]
    },
    {
      "cell_type": "code",
      "metadata": {
        "colab": {
          "base_uri": "https://localhost:8080/",
          "height": 301
        },
        "id": "WgpnvkHTdYce",
        "outputId": "582289ea-1619-4d89-a77a-873a76b3a39a"
      },
      "source": [
        "df.head()"
      ],
      "execution_count": 42,
      "outputs": [
        {
          "output_type": "execute_result",
          "data": {
            "text/html": [
              "<div>\n",
              "<style scoped>\n",
              "    .dataframe tbody tr th:only-of-type {\n",
              "        vertical-align: middle;\n",
              "    }\n",
              "\n",
              "    .dataframe tbody tr th {\n",
              "        vertical-align: top;\n",
              "    }\n",
              "\n",
              "    .dataframe thead th {\n",
              "        text-align: right;\n",
              "    }\n",
              "</style>\n",
              "<table border=\"1\" class=\"dataframe\">\n",
              "  <thead>\n",
              "    <tr style=\"text-align: right;\">\n",
              "      <th></th>\n",
              "      <th>MarriedID</th>\n",
              "      <th>MaritalStatusID</th>\n",
              "      <th>GenderID</th>\n",
              "      <th>EmpStatusID</th>\n",
              "      <th>RoleID</th>\n",
              "      <th>TermReason</th>\n",
              "      <th>EmploymentStatus</th>\n",
              "      <th>EngagementSurvey</th>\n",
              "      <th>EmpSatisfaction</th>\n",
              "      <th>SpecialProjectsCount</th>\n",
              "      <th>Age_Cat</th>\n",
              "      <th>JobLevel</th>\n",
              "      <th>EmployeePerformance</th>\n",
              "      <th>Absence_Cat</th>\n",
              "      <th>Late_Cat</th>\n",
              "      <th>WorkingYears_Cat</th>\n",
              "      <th>Resigned</th>\n",
              "    </tr>\n",
              "  </thead>\n",
              "  <tbody>\n",
              "    <tr>\n",
              "      <th>0</th>\n",
              "      <td>Not married</td>\n",
              "      <td>Single</td>\n",
              "      <td>M</td>\n",
              "      <td>TKP/ Outsource</td>\n",
              "      <td>Product Owner</td>\n",
              "      <td>N/A-StillEmployed</td>\n",
              "      <td>Active</td>\n",
              "      <td>5</td>\n",
              "      <td>5</td>\n",
              "      <td>0</td>\n",
              "      <td>36-43</td>\n",
              "      <td>2</td>\n",
              "      <td>4</td>\n",
              "      <td>0</td>\n",
              "      <td>0</td>\n",
              "      <td>6-10</td>\n",
              "      <td>0</td>\n",
              "    </tr>\n",
              "    <tr>\n",
              "      <th>1</th>\n",
              "      <td>Not married</td>\n",
              "      <td>Single</td>\n",
              "      <td>M</td>\n",
              "      <td>TKP/ Outsource</td>\n",
              "      <td>Product Owner</td>\n",
              "      <td>career change</td>\n",
              "      <td>Voluntarily Terminated</td>\n",
              "      <td>5</td>\n",
              "      <td>3</td>\n",
              "      <td>6</td>\n",
              "      <td>44-51</td>\n",
              "      <td>2</td>\n",
              "      <td>3</td>\n",
              "      <td>3</td>\n",
              "      <td>0</td>\n",
              "      <td>0-5</td>\n",
              "      <td>1</td>\n",
              "    </tr>\n",
              "    <tr>\n",
              "      <th>2</th>\n",
              "      <td>Married</td>\n",
              "      <td>Divorced</td>\n",
              "      <td>F</td>\n",
              "      <td>TKP/ Outsource</td>\n",
              "      <td>Product Owner</td>\n",
              "      <td>hours</td>\n",
              "      <td>Voluntarily Terminated</td>\n",
              "      <td>3</td>\n",
              "      <td>3</td>\n",
              "      <td>0</td>\n",
              "      <td>28-35</td>\n",
              "      <td>2</td>\n",
              "      <td>2</td>\n",
              "      <td>0</td>\n",
              "      <td>0</td>\n",
              "      <td>0-5</td>\n",
              "      <td>1</td>\n",
              "    </tr>\n",
              "    <tr>\n",
              "      <th>3</th>\n",
              "      <td>Not married</td>\n",
              "      <td>Single</td>\n",
              "      <td>F</td>\n",
              "      <td>TKP/ Outsource</td>\n",
              "      <td>Business Analyst</td>\n",
              "      <td>N/A-StillEmployed</td>\n",
              "      <td>Active</td>\n",
              "      <td>5</td>\n",
              "      <td>5</td>\n",
              "      <td>0</td>\n",
              "      <td>28-35</td>\n",
              "      <td>1</td>\n",
              "      <td>4</td>\n",
              "      <td>2</td>\n",
              "      <td>0</td>\n",
              "      <td>11-15</td>\n",
              "      <td>0</td>\n",
              "    </tr>\n",
              "    <tr>\n",
              "      <th>4</th>\n",
              "      <td>Not married</td>\n",
              "      <td>Single</td>\n",
              "      <td>F</td>\n",
              "      <td>Prohire</td>\n",
              "      <td>Business Analyst</td>\n",
              "      <td>return to school</td>\n",
              "      <td>Voluntarily Terminated</td>\n",
              "      <td>5</td>\n",
              "      <td>4</td>\n",
              "      <td>0</td>\n",
              "      <td>28-35</td>\n",
              "      <td>1</td>\n",
              "      <td>2</td>\n",
              "      <td>0</td>\n",
              "      <td>0</td>\n",
              "      <td>6-10</td>\n",
              "      <td>1</td>\n",
              "    </tr>\n",
              "  </tbody>\n",
              "</table>\n",
              "</div>"
            ],
            "text/plain": [
              "     MarriedID MaritalStatusID GenderID  ... Late_Cat WorkingYears_Cat Resigned\n",
              "0  Not married          Single        M  ...        0             6-10        0\n",
              "1  Not married          Single        M  ...        0              0-5        1\n",
              "2      Married        Divorced        F  ...        0              0-5        1\n",
              "3  Not married          Single        F  ...        0            11-15        0\n",
              "4  Not married          Single        F  ...        0             6-10        1\n",
              "\n",
              "[5 rows x 17 columns]"
            ]
          },
          "metadata": {
            "tags": []
          },
          "execution_count": 42
        }
      ]
    },
    {
      "cell_type": "code",
      "metadata": {
        "colab": {
          "base_uri": "https://localhost:8080/"
        },
        "id": "EXJn2du8TkMB",
        "outputId": "6cb54bf3-126d-4bde-e4f3-360bd3d46e0e"
      },
      "source": [
        "df.info()"
      ],
      "execution_count": 43,
      "outputs": [
        {
          "output_type": "stream",
          "text": [
            "<class 'pandas.core.frame.DataFrame'>\n",
            "RangeIndex: 287 entries, 0 to 286\n",
            "Data columns (total 17 columns):\n",
            " #   Column                Non-Null Count  Dtype \n",
            "---  ------                --------------  ----- \n",
            " 0   MarriedID             287 non-null    object\n",
            " 1   MaritalStatusID       287 non-null    object\n",
            " 2   GenderID              287 non-null    object\n",
            " 3   EmpStatusID           287 non-null    object\n",
            " 4   RoleID                287 non-null    object\n",
            " 5   TermReason            287 non-null    object\n",
            " 6   EmploymentStatus      287 non-null    object\n",
            " 7   EngagementSurvey      287 non-null    int64 \n",
            " 8   EmpSatisfaction       287 non-null    int64 \n",
            " 9   SpecialProjectsCount  287 non-null    int64 \n",
            " 10  Age_Cat               287 non-null    object\n",
            " 11  JobLevel              287 non-null    int64 \n",
            " 12  EmployeePerformance   287 non-null    int64 \n",
            " 13  Absence_Cat           287 non-null    int64 \n",
            " 14  Late_Cat              287 non-null    int64 \n",
            " 15  WorkingYears_Cat      287 non-null    object\n",
            " 16  Resigned              287 non-null    int64 \n",
            "dtypes: int64(8), object(9)\n",
            "memory usage: 38.2+ KB\n"
          ],
          "name": "stdout"
        }
      ]
    },
    {
      "cell_type": "code",
      "metadata": {
        "id": "X2rXVhliTmp-"
      },
      "source": [
        "def split_columns(data):\n",
        "    categorical_col = data.select_dtypes(include=['object','category']).columns.tolist()\n",
        "    numerical_col = data.select_dtypes(include=['int64','float64']).columns.tolist()\n",
        "    return categorical_col,numerical_col"
      ],
      "execution_count": 44,
      "outputs": []
    },
    {
      "cell_type": "code",
      "metadata": {
        "colab": {
          "base_uri": "https://localhost:8080/",
          "height": 388
        },
        "id": "9jHwNt53wbVS",
        "outputId": "0ada1a0d-641c-4acb-9ace-7f1829f11c1f"
      },
      "source": [
        "sns.heatmap(df.corr())"
      ],
      "execution_count": 38,
      "outputs": [
        {
          "output_type": "execute_result",
          "data": {
            "text/plain": [
              "<matplotlib.axes._subplots.AxesSubplot at 0x7fe1af280f10>"
            ]
          },
          "metadata": {
            "tags": []
          },
          "execution_count": 38
        },
        {
          "output_type": "display_data",
          "data": {
            "image/png": "[encoded data removed]",
            "text/plain": [
              "<Figure size 432x288 with 2 Axes>"
            ]
          },
          "metadata": {
            "tags": [],
            "needs_background": "light"
          }
        }
      ]
    },
    {
      "cell_type": "code",
      "metadata": {
        "id": "MQUOOBkrT4HP"
      },
      "source": [
        "cat,num = split_columns(df)\n",
        "test = cat\n",
        "test.append('EmpSatisfaction')\n",
        "test.append('EngagementSurvey')\n",
        "test.append('EmployeePerformance')\n",
        "test.append('EngagementSurvey')\n",
        "test.append('Absence_Cat')\n",
        "test.append('Late_Cat')"
      ],
      "execution_count": 45,
      "outputs": []
    },
    {
      "cell_type": "code",
      "metadata": {
        "colab": {
          "base_uri": "https://localhost:8080/",
          "height": 877
        },
        "id": "kcaJxgnXUhC_",
        "outputId": "e091e56a-02cc-41a2-b01b-6ed32a3f75cb"
      },
      "source": [
        "fig,axes=plt.subplots(4,4,figsize=(15,15))\n",
        "i=0;\n",
        "for elem in cat:\n",
        "    sns.countplot(x=df[elem], hue=df['Resigned'], orient='v', ax=axes[int(i/4),(i%4)]);\n",
        "    i=i+1"
      ],
      "execution_count": 46,
      "outputs": [
        {
          "output_type": "display_data",
          "data": {
            "image/png": "[encoded data removed]",
            "text/plain": [
              "<Figure size 1080x1080 with 16 Axes>"
            ]
          },
          "metadata": {
            "tags": [],
            "needs_background": "light"
          }
        }
      ]
    },
    {
      "cell_type": "code",
      "metadata": {
        "id": "5M45hau7V3W7"
      },
      "source": [
        "df = pd.get_dummies(df)"
      ],
      "execution_count": 47,
      "outputs": []
    },
    {
      "cell_type": "code",
      "metadata": {
        "colab": {
          "base_uri": "https://localhost:8080/",
          "height": 251
        },
        "id": "63Hvt79iV7MO",
        "outputId": "5a79d22c-820d-4e6d-83b0-361a61f7350a"
      },
      "source": [
        "df.head()"
      ],
      "execution_count": 48,
      "outputs": [
        {
          "output_type": "execute_result",
          "data": {
            "text/html": [
              "<div>\n",
              "<style scoped>\n",
              "    .dataframe tbody tr th:only-of-type {\n",
              "        vertical-align: middle;\n",
              "    }\n",
              "\n",
              "    .dataframe tbody tr th {\n",
              "        vertical-align: top;\n",
              "    }\n",
              "\n",
              "    .dataframe thead th {\n",
              "        text-align: right;\n",
              "    }\n",
              "</style>\n",
              "<table border=\"1\" class=\"dataframe\">\n",
              "  <thead>\n",
              "    <tr style=\"text-align: right;\">\n",
              "      <th></th>\n",
              "      <th>EngagementSurvey</th>\n",
              "      <th>EmpSatisfaction</th>\n",
              "      <th>SpecialProjectsCount</th>\n",
              "      <th>JobLevel</th>\n",
              "      <th>EmployeePerformance</th>\n",
              "      <th>Absence_Cat</th>\n",
              "      <th>Late_Cat</th>\n",
              "      <th>Resigned</th>\n",
              "      <th>MarriedID_Married</th>\n",
              "      <th>MarriedID_Not married</th>\n",
              "      <th>MaritalStatusID_Divorced</th>\n",
              "      <th>MaritalStatusID_Married</th>\n",
              "      <th>MaritalStatusID_Single</th>\n",
              "      <th>MaritalStatusID_Widowed</th>\n",
              "      <th>GenderID_F</th>\n",
              "      <th>GenderID_M</th>\n",
              "      <th>EmpStatusID_Karyawan Organik</th>\n",
              "      <th>EmpStatusID_Prohire</th>\n",
              "      <th>EmpStatusID_TKP/ Outsource</th>\n",
              "      <th>RoleID_Artificial Intelligent</th>\n",
              "      <th>RoleID_Back End Developer</th>\n",
              "      <th>RoleID_Business Analyst</th>\n",
              "      <th>RoleID_DevOps Engineer</th>\n",
              "      <th>RoleID_Digital Product Manager</th>\n",
              "      <th>RoleID_Front End Developer</th>\n",
              "      <th>RoleID_Mobile Developer Android</th>\n",
              "      <th>RoleID_Mobile Developer iOS</th>\n",
              "      <th>RoleID_Product Owner</th>\n",
              "      <th>RoleID_Scrum Master</th>\n",
              "      <th>RoleID_Software Architect</th>\n",
              "      <th>RoleID_System Documentation</th>\n",
              "      <th>RoleID_UI Designer</th>\n",
              "      <th>RoleID_UX Designer</th>\n",
              "      <th>RoleID_UX Researcher</th>\n",
              "      <th>RoleID_UX Writer</th>\n",
              "      <th>TermReason_Another position</th>\n",
              "      <th>TermReason_Fatal attraction</th>\n",
              "      <th>TermReason_Learned that he is a gangster</th>\n",
              "      <th>TermReason_N/A-StillEmployed</th>\n",
              "      <th>TermReason_attendance</th>\n",
              "      <th>TermReason_career change</th>\n",
              "      <th>TermReason_hours</th>\n",
              "      <th>TermReason_maternity leave - did not return</th>\n",
              "      <th>TermReason_medical issues</th>\n",
              "      <th>TermReason_military</th>\n",
              "      <th>TermReason_more money</th>\n",
              "      <th>TermReason_no-call, no-show</th>\n",
              "      <th>TermReason_performance</th>\n",
              "      <th>TermReason_relocation out of area</th>\n",
              "      <th>TermReason_retiring</th>\n",
              "      <th>TermReason_return to school</th>\n",
              "      <th>TermReason_unhappy</th>\n",
              "      <th>EmploymentStatus_Active</th>\n",
              "      <th>EmploymentStatus_Terminated for Cause</th>\n",
              "      <th>EmploymentStatus_Voluntarily Terminated</th>\n",
              "      <th>Age_Cat_28-35</th>\n",
              "      <th>Age_Cat_36-43</th>\n",
              "      <th>Age_Cat_44-51</th>\n",
              "      <th>Age_Cat_52-59</th>\n",
              "      <th>Age_Cat_60-70</th>\n",
              "      <th>WorkingYears_Cat_0-5</th>\n",
              "      <th>WorkingYears_Cat_11-15</th>\n",
              "      <th>WorkingYears_Cat_6-10</th>\n",
              "    </tr>\n",
              "  </thead>\n",
              "  <tbody>\n",
              "    <tr>\n",
              "      <th>0</th>\n",
              "      <td>5</td>\n",
              "      <td>5</td>\n",
              "      <td>0</td>\n",
              "      <td>2</td>\n",
              "      <td>4</td>\n",
              "      <td>0</td>\n",
              "      <td>0</td>\n",
              "      <td>0</td>\n",
              "      <td>0</td>\n",
              "      <td>1</td>\n",
              "      <td>0</td>\n",
              "      <td>0</td>\n",
              "      <td>1</td>\n",
              "      <td>0</td>\n",
              "      <td>0</td>\n",
              "      <td>1</td>\n",
              "      <td>0</td>\n",
              "      <td>0</td>\n",
              "      <td>1</td>\n",
              "      <td>0</td>\n",
              "      <td>0</td>\n",
              "      <td>0</td>\n",
              "      <td>0</td>\n",
              "      <td>0</td>\n",
              "      <td>0</td>\n",
              "      <td>0</td>\n",
              "      <td>0</td>\n",
              "      <td>1</td>\n",
              "      <td>0</td>\n",
              "      <td>0</td>\n",
              "      <td>0</td>\n",
              "      <td>0</td>\n",
              "      <td>0</td>\n",
              "      <td>0</td>\n",
              "      <td>0</td>\n",
              "      <td>0</td>\n",
              "      <td>0</td>\n",
              "      <td>0</td>\n",
              "      <td>1</td>\n",
              "      <td>0</td>\n",
              "      <td>0</td>\n",
              "      <td>0</td>\n",
              "      <td>0</td>\n",
              "      <td>0</td>\n",
              "      <td>0</td>\n",
              "      <td>0</td>\n",
              "      <td>0</td>\n",
              "      <td>0</td>\n",
              "      <td>0</td>\n",
              "      <td>0</td>\n",
              "      <td>0</td>\n",
              "      <td>0</td>\n",
              "      <td>1</td>\n",
              "      <td>0</td>\n",
              "      <td>0</td>\n",
              "      <td>0</td>\n",
              "      <td>1</td>\n",
              "      <td>0</td>\n",
              "      <td>0</td>\n",
              "      <td>0</td>\n",
              "      <td>0</td>\n",
              "      <td>0</td>\n",
              "      <td>1</td>\n",
              "    </tr>\n",
              "    <tr>\n",
              "      <th>1</th>\n",
              "      <td>5</td>\n",
              "      <td>3</td>\n",
              "      <td>6</td>\n",
              "      <td>2</td>\n",
              "      <td>3</td>\n",
              "      <td>3</td>\n",
              "      <td>0</td>\n",
              "      <td>1</td>\n",
              "      <td>0</td>\n",
              "      <td>1</td>\n",
              "      <td>0</td>\n",
              "      <td>0</td>\n",
              "      <td>1</td>\n",
              "      <td>0</td>\n",
              "      <td>0</td>\n",
              "      <td>1</td>\n",
              "      <td>0</td>\n",
              "      <td>0</td>\n",
              "      <td>1</td>\n",
              "      <td>0</td>\n",
              "      <td>0</td>\n",
              "      <td>0</td>\n",
              "      <td>0</td>\n",
              "      <td>0</td>\n",
              "      <td>0</td>\n",
              "      <td>0</td>\n",
              "      <td>0</td>\n",
              "      <td>1</td>\n",
              "      <td>0</td>\n",
              "      <td>0</td>\n",
              "      <td>0</td>\n",
              "      <td>0</td>\n",
              "      <td>0</td>\n",
              "      <td>0</td>\n",
              "      <td>0</td>\n",
              "      <td>0</td>\n",
              "      <td>0</td>\n",
              "      <td>0</td>\n",
              "      <td>0</td>\n",
              "      <td>0</td>\n",
              "      <td>1</td>\n",
              "      <td>0</td>\n",
              "      <td>0</td>\n",
              "      <td>0</td>\n",
              "      <td>0</td>\n",
              "      <td>0</td>\n",
              "      <td>0</td>\n",
              "      <td>0</td>\n",
              "      <td>0</td>\n",
              "      <td>0</td>\n",
              "      <td>0</td>\n",
              "      <td>0</td>\n",
              "      <td>0</td>\n",
              "      <td>0</td>\n",
              "      <td>1</td>\n",
              "      <td>0</td>\n",
              "      <td>0</td>\n",
              "      <td>1</td>\n",
              "      <td>0</td>\n",
              "      <td>0</td>\n",
              "      <td>1</td>\n",
              "      <td>0</td>\n",
              "      <td>0</td>\n",
              "    </tr>\n",
              "    <tr>\n",
              "      <th>2</th>\n",
              "      <td>3</td>\n",
              "      <td>3</td>\n",
              "      <td>0</td>\n",
              "      <td>2</td>\n",
              "      <td>2</td>\n",
              "      <td>0</td>\n",
              "      <td>0</td>\n",
              "      <td>1</td>\n",
              "      <td>1</td>\n",
              "      <td>0</td>\n",
              "      <td>1</td>\n",
              "      <td>0</td>\n",
              "      <td>0</td>\n",
              "      <td>0</td>\n",
              "      <td>1</td>\n",
              "      <td>0</td>\n",
              "      <td>0</td>\n",
              "      <td>0</td>\n",
              "      <td>1</td>\n",
              "      <td>0</td>\n",
              "      <td>0</td>\n",
              "      <td>0</td>\n",
              "      <td>0</td>\n",
              "      <td>0</td>\n",
              "      <td>0</td>\n",
              "      <td>0</td>\n",
              "      <td>0</td>\n",
              "      <td>1</td>\n",
              "      <td>0</td>\n",
              "      <td>0</td>\n",
              "      <td>0</td>\n",
              "      <td>0</td>\n",
              "      <td>0</td>\n",
              "      <td>0</td>\n",
              "      <td>0</td>\n",
              "      <td>0</td>\n",
              "      <td>0</td>\n",
              "      <td>0</td>\n",
              "      <td>0</td>\n",
              "      <td>0</td>\n",
              "      <td>0</td>\n",
              "      <td>1</td>\n",
              "      <td>0</td>\n",
              "      <td>0</td>\n",
              "      <td>0</td>\n",
              "      <td>0</td>\n",
              "      <td>0</td>\n",
              "      <td>0</td>\n",
              "      <td>0</td>\n",
              "      <td>0</td>\n",
              "      <td>0</td>\n",
              "      <td>0</td>\n",
              "      <td>0</td>\n",
              "      <td>0</td>\n",
              "      <td>1</td>\n",
              "      <td>1</td>\n",
              "      <td>0</td>\n",
              "      <td>0</td>\n",
              "      <td>0</td>\n",
              "      <td>0</td>\n",
              "      <td>1</td>\n",
              "      <td>0</td>\n",
              "      <td>0</td>\n",
              "    </tr>\n",
              "    <tr>\n",
              "      <th>3</th>\n",
              "      <td>5</td>\n",
              "      <td>5</td>\n",
              "      <td>0</td>\n",
              "      <td>1</td>\n",
              "      <td>4</td>\n",
              "      <td>2</td>\n",
              "      <td>0</td>\n",
              "      <td>0</td>\n",
              "      <td>0</td>\n",
              "      <td>1</td>\n",
              "      <td>0</td>\n",
              "      <td>0</td>\n",
              "      <td>1</td>\n",
              "      <td>0</td>\n",
              "      <td>1</td>\n",
              "      <td>0</td>\n",
              "      <td>0</td>\n",
              "      <td>0</td>\n",
              "      <td>1</td>\n",
              "      <td>0</td>\n",
              "      <td>0</td>\n",
              "      <td>1</td>\n",
              "      <td>0</td>\n",
              "      <td>0</td>\n",
              "      <td>0</td>\n",
              "      <td>0</td>\n",
              "      <td>0</td>\n",
              "      <td>0</td>\n",
              "      <td>0</td>\n",
              "      <td>0</td>\n",
              "      <td>0</td>\n",
              "      <td>0</td>\n",
              "      <td>0</td>\n",
              "      <td>0</td>\n",
              "      <td>0</td>\n",
              "      <td>0</td>\n",
              "      <td>0</td>\n",
              "      <td>0</td>\n",
              "      <td>1</td>\n",
              "      <td>0</td>\n",
              "      <td>0</td>\n",
              "      <td>0</td>\n",
              "      <td>0</td>\n",
              "      <td>0</td>\n",
              "      <td>0</td>\n",
              "      <td>0</td>\n",
              "      <td>0</td>\n",
              "      <td>0</td>\n",
              "      <td>0</td>\n",
              "      <td>0</td>\n",
              "      <td>0</td>\n",
              "      <td>0</td>\n",
              "      <td>1</td>\n",
              "      <td>0</td>\n",
              "      <td>0</td>\n",
              "      <td>1</td>\n",
              "      <td>0</td>\n",
              "      <td>0</td>\n",
              "      <td>0</td>\n",
              "      <td>0</td>\n",
              "      <td>0</td>\n",
              "      <td>1</td>\n",
              "      <td>0</td>\n",
              "    </tr>\n",
              "    <tr>\n",
              "      <th>4</th>\n",
              "      <td>5</td>\n",
              "      <td>4</td>\n",
              "      <td>0</td>\n",
              "      <td>1</td>\n",
              "      <td>2</td>\n",
              "      <td>0</td>\n",
              "      <td>0</td>\n",
              "      <td>1</td>\n",
              "      <td>0</td>\n",
              "      <td>1</td>\n",
              "      <td>0</td>\n",
              "      <td>0</td>\n",
              "      <td>1</td>\n",
              "      <td>0</td>\n",
              "      <td>1</td>\n",
              "      <td>0</td>\n",
              "      <td>0</td>\n",
              "      <td>1</td>\n",
              "      <td>0</td>\n",
              "      <td>0</td>\n",
              "      <td>0</td>\n",
              "      <td>1</td>\n",
              "      <td>0</td>\n",
              "      <td>0</td>\n",
              "      <td>0</td>\n",
              "      <td>0</td>\n",
              "      <td>0</td>\n",
              "      <td>0</td>\n",
              "      <td>0</td>\n",
              "      <td>0</td>\n",
              "      <td>0</td>\n",
              "      <td>0</td>\n",
              "      <td>0</td>\n",
              "      <td>0</td>\n",
              "      <td>0</td>\n",
              "      <td>0</td>\n",
              "      <td>0</td>\n",
              "      <td>0</td>\n",
              "      <td>0</td>\n",
              "      <td>0</td>\n",
              "      <td>0</td>\n",
              "      <td>0</td>\n",
              "      <td>0</td>\n",
              "      <td>0</td>\n",
              "      <td>0</td>\n",
              "      <td>0</td>\n",
              "      <td>0</td>\n",
              "      <td>0</td>\n",
              "      <td>0</td>\n",
              "      <td>0</td>\n",
              "      <td>1</td>\n",
              "      <td>0</td>\n",
              "      <td>0</td>\n",
              "      <td>0</td>\n",
              "      <td>1</td>\n",
              "      <td>1</td>\n",
              "      <td>0</td>\n",
              "      <td>0</td>\n",
              "      <td>0</td>\n",
              "      <td>0</td>\n",
              "      <td>0</td>\n",
              "      <td>0</td>\n",
              "      <td>1</td>\n",
              "    </tr>\n",
              "  </tbody>\n",
              "</table>\n",
              "</div>"
            ],
            "text/plain": [
              "   EngagementSurvey  ...  WorkingYears_Cat_6-10\n",
              "0                 5  ...                      1\n",
              "1                 5  ...                      0\n",
              "2                 3  ...                      0\n",
              "3                 5  ...                      0\n",
              "4                 5  ...                      1\n",
              "\n",
              "[5 rows x 63 columns]"
            ]
          },
          "metadata": {
            "tags": []
          },
          "execution_count": 48
        }
      ]
    },
    {
      "cell_type": "code",
      "metadata": {
        "colab": {
          "base_uri": "https://localhost:8080/"
        },
        "id": "kZB2GAWHV8TX",
        "outputId": "52f57904-e9e1-4a22-cb9c-55aa77d90b1e"
      },
      "source": [
        "df.shape"
      ],
      "execution_count": 49,
      "outputs": [
        {
          "output_type": "execute_result",
          "data": {
            "text/plain": [
              "(287, 63)"
            ]
          },
          "metadata": {
            "tags": []
          },
          "execution_count": 49
        }
      ]
    },
    {
      "cell_type": "code",
      "metadata": {
        "id": "1Qmf2J31WJnC"
      },
      "source": [
        "X = df.drop(columns=['Resigned'])\n",
        "y = df['Resigned']\n",
        "# Split train and test data\n",
        "X_train, X_test, y_train, y_test = train_test_split(X, y, test_size=0.3,random_state=42)"
      ],
      "execution_count": 50,
      "outputs": []
    },
    {
      "cell_type": "markdown",
      "metadata": {
        "id": "7Xxm2fzLZSdK"
      },
      "source": [
        "Multinomial NB"
      ]
    },
    {
      "cell_type": "code",
      "metadata": {
        "id": "pq1nKHdoXFyO"
      },
      "source": [
        "nb = MultinomialNB()\n",
        "nb.fit(X_train,y_train)\n",
        "nb_pred = nb.predict(X_test)"
      ],
      "execution_count": 54,
      "outputs": []
    },
    {
      "cell_type": "code",
      "metadata": {
        "colab": {
          "base_uri": "https://localhost:8080/"
        },
        "id": "l5S5i11OXIE_",
        "outputId": "2a02e0cd-4426-43dd-a976-2191a6a6a13b"
      },
      "source": [
        "print(classification_report(y_test,nb_pred))"
      ],
      "execution_count": 57,
      "outputs": [
        {
          "output_type": "stream",
          "text": [
            "              precision    recall  f1-score   support\n",
            "\n",
            "           0       0.95      1.00      0.98        59\n",
            "           1       1.00      0.89      0.94        28\n",
            "\n",
            "    accuracy                           0.97        87\n",
            "   macro avg       0.98      0.95      0.96        87\n",
            "weighted avg       0.97      0.97      0.96        87\n",
            "\n"
          ],
          "name": "stdout"
        }
      ]
    },
    {
      "cell_type": "code",
      "metadata": {
        "colab": {
          "base_uri": "https://localhost:8080/",
          "height": 361
        },
        "id": "6w6Od5mNXYPV",
        "outputId": "7b3afd30-ccc0-4431-d4e6-5ad79e1654c0"
      },
      "source": [
        "nb_matrix = confusion_matrix(y_test,nb_pred)\n",
        "plot(nb_matrix, classes=[\"0 (Active)\",\"1 (Resign)\"], title='Confusion matrix Naive Bayes')"
      ],
      "execution_count": 60,
      "outputs": [
        {
          "output_type": "stream",
          "text": [
            "Confusion matrix, without normalization\n",
            "[[59  0]\n",
            " [ 3 25]]\n"
          ],
          "name": "stdout"
        },
        {
          "output_type": "display_data",
          "data": {
            "image/png": "[encoded data removed]",
            "text/plain": [
              "<Figure size 432x288 with 2 Axes>"
            ]
          },
          "metadata": {
            "tags": [],
            "needs_background": "light"
          }
        }
      ]
    },
    {
      "cell_type": "markdown",
      "metadata": {
        "id": "B_nyxrGMZXIT"
      },
      "source": [
        "Logistic Regression"
      ]
    },
    {
      "cell_type": "code",
      "metadata": {
        "id": "YjqyMeEtXdAu"
      },
      "source": [
        "lr = LogisticRegression()\n",
        "lr.fit(X_train,y_train)\n",
        "lr_pred = lr.predict(X_test)"
      ],
      "execution_count": 61,
      "outputs": []
    },
    {
      "cell_type": "code",
      "metadata": {
        "colab": {
          "base_uri": "https://localhost:8080/"
        },
        "id": "Erlb83uhXwCH",
        "outputId": "5b9ca824-5396-4f91-de34-17496a3b817b"
      },
      "source": [
        "print(classification_report(y_test,lr_pred))"
      ],
      "execution_count": 62,
      "outputs": [
        {
          "output_type": "stream",
          "text": [
            "              precision    recall  f1-score   support\n",
            "\n",
            "           0       1.00      1.00      1.00        59\n",
            "           1       1.00      1.00      1.00        28\n",
            "\n",
            "    accuracy                           1.00        87\n",
            "   macro avg       1.00      1.00      1.00        87\n",
            "weighted avg       1.00      1.00      1.00        87\n",
            "\n"
          ],
          "name": "stdout"
        }
      ]
    },
    {
      "cell_type": "code",
      "metadata": {
        "colab": {
          "base_uri": "https://localhost:8080/",
          "height": 361
        },
        "id": "EakEl3k9XxZW",
        "outputId": "73fc595f-b8e9-4d43-ada6-5b8bd2526e77"
      },
      "source": [
        "lr_matrix = confusion_matrix(y_test,lr_pred)\n",
        "plot(lr_matrix, classes=[\"0 (Active)\",\"1 (Resign)\"], title='Confusion matrix Logistic Regression')"
      ],
      "execution_count": 63,
      "outputs": [
        {
          "output_type": "stream",
          "text": [
            "Confusion matrix, without normalization\n",
            "[[59  0]\n",
            " [ 0 28]]\n"
          ],
          "name": "stdout"
        },
        {
          "output_type": "display_data",
          "data": {
            "image/png": "[encoded data removed]",
            "text/plain": [
              "<Figure size 432x288 with 2 Axes>"
            ]
          },
          "metadata": {
            "tags": [],
            "needs_background": "light"
          }
        }
      ]
    },
    {
      "cell_type": "markdown",
      "metadata": {
        "id": "VZKzR8u9Zcle"
      },
      "source": [
        "Random Forest Classifier"
      ]
    },
    {
      "cell_type": "code",
      "metadata": {
        "colab": {
          "base_uri": "https://localhost:8080/"
        },
        "id": "itqBR9RrX7eV",
        "outputId": "88ba814e-a8f6-4c2c-e1d0-b62972702fde"
      },
      "source": [
        "from sklearn.model_selection import GridSearchCV\n",
        "from sklearn.ensemble import RandomForestClassifier\n",
        "# Create the parameter grid based on the results of random search \n",
        "param_grid = {\n",
        "    'max_depth': [1,2,3,4,10,15],\n",
        "     'min_samples_leaf': [3, 5,10,20,30],\n",
        "     'min_samples_split': [4, 8, 10, 12],\n",
        "     'n_estimators': [3,5,10,15]\n",
        "}\n",
        "# Create a based model\n",
        "rf = RandomForestClassifier()\n",
        "# Instantiate the grid search model\n",
        "grid_search = GridSearchCV(estimator = rf, param_grid = param_grid, \n",
        "                          cv = 3, n_jobs = -1, verbose = 2)\n",
        "\n",
        "grid_search.fit(X_train, y_train)\n",
        "grid_search.best_params_"
      ],
      "execution_count": 64,
      "outputs": [
        {
          "output_type": "stream",
          "text": [
            "Fitting 3 folds for each of 480 candidates, totalling 1440 fits\n"
          ],
          "name": "stdout"
        },
        {
          "output_type": "stream",
          "text": [
            "[Parallel(n_jobs=-1)]: Using backend LokyBackend with 2 concurrent workers.\n",
            "[Parallel(n_jobs=-1)]: Done 130 tasks      | elapsed:    3.4s\n",
            "[Parallel(n_jobs=-1)]: Done 1098 tasks      | elapsed:   17.4s\n",
            "[Parallel(n_jobs=-1)]: Done 1440 out of 1440 | elapsed:   22.3s finished\n"
          ],
          "name": "stderr"
        },
        {
          "output_type": "execute_result",
          "data": {
            "text/plain": [
              "{'max_depth': 1,\n",
              " 'min_samples_leaf': 10,\n",
              " 'min_samples_split': 8,\n",
              " 'n_estimators': 5}"
            ]
          },
          "metadata": {
            "tags": []
          },
          "execution_count": 64
        }
      ]
    },
    {
      "cell_type": "code",
      "metadata": {
        "colab": {
          "base_uri": "https://localhost:8080/"
        },
        "id": "AFuL-HiuZrfb",
        "outputId": "b84c37e5-ebd8-4692-cd16-5381601abb27"
      },
      "source": [
        "rf = grid_search.best_estimator_\n",
        "rf.fit(X_train,y_train)\n",
        "rf_pred = rf.predict(X_test)\n",
        "print(classification_report(y_test,rf_pred))"
      ],
      "execution_count": 76,
      "outputs": [
        {
          "output_type": "stream",
          "text": [
            "              precision    recall  f1-score   support\n",
            "\n",
            "           0       0.75      1.00      0.86        59\n",
            "           1       1.00      0.29      0.44        28\n",
            "\n",
            "    accuracy                           0.77        87\n",
            "   macro avg       0.87      0.64      0.65        87\n",
            "weighted avg       0.83      0.77      0.72        87\n",
            "\n"
          ],
          "name": "stdout"
        }
      ]
    },
    {
      "cell_type": "code",
      "metadata": {
        "colab": {
          "base_uri": "https://localhost:8080/",
          "height": 361
        },
        "id": "Mj7rieb5bA0d",
        "outputId": "df1b45c1-959f-4a73-d102-3f106d107a2d"
      },
      "source": [
        "rf_matrix = confusion_matrix(y_test,rf_pred)\n",
        "plot(rf_matrix, classes=[\"0 (Active)\",\"1 (Resign)\"], title='Confusion matrix Random Forest')"
      ],
      "execution_count": 78,
      "outputs": [
        {
          "output_type": "stream",
          "text": [
            "Confusion matrix, without normalization\n",
            "[[59  0]\n",
            " [20  8]]\n"
          ],
          "name": "stdout"
        },
        {
          "output_type": "display_data",
          "data": {
            "image/png": "[encoded data removed]",
            "text/plain": [
              "<Figure size 432x288 with 2 Axes>"
            ]
          },
          "metadata": {
            "tags": [],
            "needs_background": "light"
          }
        }
      ]
    },
    {
      "cell_type": "markdown",
      "metadata": {
        "id": "5bxNjTpgZg3Q"
      },
      "source": [
        "XGBoost"
      ]
    },
    {
      "cell_type": "code",
      "metadata": {
        "id": "h5MH7LZzYqRo"
      },
      "source": [
        "params = {\n",
        "        'n_estimators': range(50, 250, 50),\n",
        "        'learning_rate': [0.1, 0.01]\n",
        "        }\n",
        "xgb_b = XGBClassifier()\n",
        "grid_xgb = GridSearchCV(xgb_b,params,verbose=2)\n",
        "grid_xgb.fit(X_test,y_test)"
      ],
      "execution_count": 70,
      "outputs": []
    },
    {
      "cell_type": "code",
      "metadata": {
        "colab": {
          "base_uri": "https://localhost:8080/"
        },
        "id": "qDOgfIcnY0xp",
        "outputId": "3b495059-890a-4423-e652-c52161a93593"
      },
      "source": [
        "xg = grid_xgb.best_estimator_\n",
        "xg.fit(X_train,y_train)\n",
        "xg_pred = xg.predict(X_test)\n",
        "print(classification_report(y_test,xg_pred))"
      ],
      "execution_count": 77,
      "outputs": [
        {
          "output_type": "stream",
          "text": [
            "              precision    recall  f1-score   support\n",
            "\n",
            "           0       1.00      1.00      1.00        59\n",
            "           1       1.00      1.00      1.00        28\n",
            "\n",
            "    accuracy                           1.00        87\n",
            "   macro avg       1.00      1.00      1.00        87\n",
            "weighted avg       1.00      1.00      1.00        87\n",
            "\n"
          ],
          "name": "stdout"
        }
      ]
    },
    {
      "cell_type": "code",
      "metadata": {
        "colab": {
          "base_uri": "https://localhost:8080/",
          "height": 361
        },
        "id": "xl4Hp1q_bJmo",
        "outputId": "42bd7087-f48f-4b06-99db-c77b799ea445"
      },
      "source": [
        "xg_matrix = confusion_matrix(y_test,xg_pred)\n",
        "plot(xg_matrix, classes=[\"0 (Active)\",\"1 (Resign)\"], title='Confusion matrix XGBoost')"
      ],
      "execution_count": 79,
      "outputs": [
        {
          "output_type": "stream",
          "text": [
            "Confusion matrix, without normalization\n",
            "[[59  0]\n",
            " [ 0 28]]\n"
          ],
          "name": "stdout"
        },
        {
          "output_type": "display_data",
          "data": {
            "image/png": "[encoded data removed]",
            "text/plain": [
              "<Figure size 432x288 with 2 Axes>"
            ]
          },
          "metadata": {
            "tags": [],
            "needs_background": "light"
          }
        }
      ]
    }
  ]
}